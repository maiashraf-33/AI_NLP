{
 "cells": [
  {
   "cell_type": "code",
   "execution_count": 2,
   "metadata": {
    "id": "135ZZFefn_O7"
   },
   "outputs": [],
   "source": [
    "import spacy\n",
    "import pandas as pd\n",
    "import numpy as np\n",
    "from tqdm.auto import tqdm\n",
    "import tensorflow as tf"
   ]
  },
  {
   "cell_type": "code",
   "execution_count": 35,
   "metadata": {
    "colab": {
     "base_uri": "https://localhost:8080/",
     "height": 206
    },
    "id": "S5Ic1kE2n_PF",
    "outputId": "67c372a2-d714-4bee-f597-42215c9c90be"
   },
   "outputs": [
    {
     "data": {
      "text/html": [
       "\n",
       "  <div id=\"df-147c7a9c-225c-428f-8edb-d1aafab7e3a4\">\n",
       "    <div class=\"colab-df-container\">\n",
       "      <div>\n",
       "<style scoped>\n",
       "    .dataframe tbody tr th:only-of-type {\n",
       "        vertical-align: middle;\n",
       "    }\n",
       "\n",
       "    .dataframe tbody tr th {\n",
       "        vertical-align: top;\n",
       "    }\n",
       "\n",
       "    .dataframe thead th {\n",
       "        text-align: right;\n",
       "    }\n",
       "</style>\n",
       "<table border=\"1\" class=\"dataframe\">\n",
       "  <thead>\n",
       "    <tr style=\"text-align: right;\">\n",
       "      <th></th>\n",
       "      <th>Text</th>\n",
       "      <th>Emotion</th>\n",
       "    </tr>\n",
       "  </thead>\n",
       "  <tbody>\n",
       "    <tr>\n",
       "      <th>10384</th>\n",
       "      <td>i feel dirty if i dont</td>\n",
       "      <td>sadness</td>\n",
       "    </tr>\n",
       "    <tr>\n",
       "      <th>18002</th>\n",
       "      <td>i feel like a faithful servant</td>\n",
       "      <td>love</td>\n",
       "    </tr>\n",
       "    <tr>\n",
       "      <th>28403</th>\n",
       "      <td>i ever feel ugly or ashamed of my body</td>\n",
       "      <td>sadness</td>\n",
       "    </tr>\n",
       "    <tr>\n",
       "      <th>5275</th>\n",
       "      <td>im down to blogging again simply because im fe...</td>\n",
       "      <td>anger</td>\n",
       "    </tr>\n",
       "    <tr>\n",
       "      <th>23162</th>\n",
       "      <td>i feel like my songs are pretty lame and eleme...</td>\n",
       "      <td>sadness</td>\n",
       "    </tr>\n",
       "  </tbody>\n",
       "</table>\n",
       "</div>\n",
       "      <button class=\"colab-df-convert\" onclick=\"convertToInteractive('df-147c7a9c-225c-428f-8edb-d1aafab7e3a4')\"\n",
       "              title=\"Convert this dataframe to an interactive table.\"\n",
       "              style=\"display:none;\">\n",
       "        \n",
       "  <svg xmlns=\"http://www.w3.org/2000/svg\" height=\"24px\"viewBox=\"0 0 24 24\"\n",
       "       width=\"24px\">\n",
       "    <path d=\"M0 0h24v24H0V0z\" fill=\"none\"/>\n",
       "    <path d=\"M18.56 5.44l.94 2.06.94-2.06 2.06-.94-2.06-.94-.94-2.06-.94 2.06-2.06.94zm-11 1L8.5 8.5l.94-2.06 2.06-.94-2.06-.94L8.5 2.5l-.94 2.06-2.06.94zm10 10l.94 2.06.94-2.06 2.06-.94-2.06-.94-.94-2.06-.94 2.06-2.06.94z\"/><path d=\"M17.41 7.96l-1.37-1.37c-.4-.4-.92-.59-1.43-.59-.52 0-1.04.2-1.43.59L10.3 9.45l-7.72 7.72c-.78.78-.78 2.05 0 2.83L4 21.41c.39.39.9.59 1.41.59.51 0 1.02-.2 1.41-.59l7.78-7.78 2.81-2.81c.8-.78.8-2.07 0-2.86zM5.41 20L4 18.59l7.72-7.72 1.47 1.35L5.41 20z\"/>\n",
       "  </svg>\n",
       "      </button>\n",
       "      \n",
       "  <style>\n",
       "    .colab-df-container {\n",
       "      display:flex;\n",
       "      flex-wrap:wrap;\n",
       "      gap: 12px;\n",
       "    }\n",
       "\n",
       "    .colab-df-convert {\n",
       "      background-color: #E8F0FE;\n",
       "      border: none;\n",
       "      border-radius: 50%;\n",
       "      cursor: pointer;\n",
       "      display: none;\n",
       "      fill: #1967D2;\n",
       "      height: 32px;\n",
       "      padding: 0 0 0 0;\n",
       "      width: 32px;\n",
       "    }\n",
       "\n",
       "    .colab-df-convert:hover {\n",
       "      background-color: #E2EBFA;\n",
       "      box-shadow: 0px 1px 2px rgba(60, 64, 67, 0.3), 0px 1px 3px 1px rgba(60, 64, 67, 0.15);\n",
       "      fill: #174EA6;\n",
       "    }\n",
       "\n",
       "    [theme=dark] .colab-df-convert {\n",
       "      background-color: #3B4455;\n",
       "      fill: #D2E3FC;\n",
       "    }\n",
       "\n",
       "    [theme=dark] .colab-df-convert:hover {\n",
       "      background-color: #434B5C;\n",
       "      box-shadow: 0px 1px 3px 1px rgba(0, 0, 0, 0.15);\n",
       "      filter: drop-shadow(0px 1px 2px rgba(0, 0, 0, 0.3));\n",
       "      fill: #FFFFFF;\n",
       "    }\n",
       "  </style>\n",
       "\n",
       "      <script>\n",
       "        const buttonEl =\n",
       "          document.querySelector('#df-147c7a9c-225c-428f-8edb-d1aafab7e3a4 button.colab-df-convert');\n",
       "        buttonEl.style.display =\n",
       "          google.colab.kernel.accessAllowed ? 'block' : 'none';\n",
       "\n",
       "        async function convertToInteractive(key) {\n",
       "          const element = document.querySelector('#df-147c7a9c-225c-428f-8edb-d1aafab7e3a4');\n",
       "          const dataTable =\n",
       "            await google.colab.kernel.invokeFunction('convertToInteractive',\n",
       "                                                     [key], {});\n",
       "          if (!dataTable) return;\n",
       "\n",
       "          const docLinkHtml = 'Like what you see? Visit the ' +\n",
       "            '<a target=\"_blank\" href=https://colab.research.google.com/notebooks/data_table.ipynb>data table notebook</a>'\n",
       "            + ' to learn more about interactive tables.';\n",
       "          element.innerHTML = '';\n",
       "          dataTable['output_type'] = 'display_data';\n",
       "          await google.colab.output.renderOutput(dataTable, element);\n",
       "          const docLink = document.createElement('div');\n",
       "          docLink.innerHTML = docLinkHtml;\n",
       "          element.appendChild(docLink);\n",
       "        }\n",
       "      </script>\n",
       "    </div>\n",
       "  </div>\n",
       "  "
      ],
      "text/plain": [
       "                                                    Text  Emotion\n",
       "10384                             i feel dirty if i dont  sadness\n",
       "18002                     i feel like a faithful servant     love\n",
       "28403             i ever feel ugly or ashamed of my body  sadness\n",
       "5275   im down to blogging again simply because im fe...    anger\n",
       "23162  i feel like my songs are pretty lame and eleme...  sadness"
      ]
     },
     "execution_count": 35,
     "metadata": {},
     "output_type": "execute_result"
    }
   ],
   "source": [
    "nlp = spacy.load('en_core_web_sm')\n",
    "dataset = pd.read_csv('/content/Emotion_final.csv')\n",
    "dataset.sample(5)"
   ]
  },
  {
   "cell_type": "code",
   "execution_count": 10,
   "metadata": {
    "colab": {
     "base_uri": "https://localhost:8080/"
    },
    "id": "O1shozDia6UW",
    "outputId": "a4bb9a42-75f1-45ce-fe8a-86a1b41b0236"
   },
   "outputs": [
    {
     "name": "stdout",
     "output_type": "stream",
     "text": [
      "<class 'pandas.core.frame.DataFrame'>\n",
      "RangeIndex: 19943 entries, 0 to 19942\n",
      "Data columns (total 2 columns):\n",
      " #   Column   Non-Null Count  Dtype \n",
      "---  ------   --------------  ----- \n",
      " 0   Text     19943 non-null  object\n",
      " 1   Emotion  19942 non-null  object\n",
      "dtypes: object(2)\n",
      "memory usage: 311.7+ KB\n"
     ]
    }
   ],
   "source": [
    "dataset.info()"
   ]
  },
  {
   "cell_type": "code",
   "execution_count": 5,
   "metadata": {
    "colab": {
     "base_uri": "https://localhost:8080/"
    },
    "id": "cASlQmIquU5m",
    "outputId": "f3657367-2655-47e9-f53a-dc304eeaef01"
   },
   "outputs": [
    {
     "data": {
      "text/plain": [
       "66"
      ]
     },
     "execution_count": 5,
     "metadata": {},
     "output_type": "execute_result"
    }
   ],
   "source": [
    "def get_longest_text(texts):\n",
    "    longest_input = 0\n",
    "    for text in texts:\n",
    "        text_len= len(text.split())\n",
    "        longest_input = max(longest_input, text_len)\n",
    "    return longest_input\n",
    "\n",
    "longest_input = get_longest_text(dataset['Text'])\n",
    "longest_input"
   ]
  },
  {
   "cell_type": "code",
   "execution_count": 6,
   "metadata": {
    "colab": {
     "base_uri": "https://localhost:8080/",
     "height": 49,
     "referenced_widgets": [
      "c79604b118fe48bba8094ce9268ce1ae",
      "f9b6542ecdd1494f92671fa526c30d94",
      "eea526feba5f402bbbdd350132e8f0d8",
      "d0834076709640b285dd107ee887daf2",
      "226b42ed88e545bcbe7dc039b8a2e32f",
      "06c3a365039d4eba9ccd943682569fb8",
      "e1addffa087d46b5b13301db4849de10",
      "ba1e850feac940f6a741bccea234f4fb",
      "397abc4ef6e54c59812f1b86100fd8cd",
      "dd234863280b444c8f66f5402184b33b",
      "e1881851622a467ea037742cc4728235"
     ]
    },
    "id": "jASVCSh1uU1a",
    "outputId": "31339f16-da89-4d32-a61e-1c586179c157"
   },
   "outputs": [
    {
     "data": {
      "application/vnd.jupyter.widget-view+json": {
       "model_id": "c79604b118fe48bba8094ce9268ce1ae",
       "version_major": 2,
       "version_minor": 0
      },
      "text/plain": [
       "  0%|          | 0/19943 [00:00<?, ?it/s]"
      ]
     },
     "metadata": {},
     "output_type": "display_data"
    }
   ],
   "source": [
    "data_emb = np.zeros((len(dataset), longest_input, 96))\n",
    "\n",
    "for i, text in enumerate(tqdm(nlp.pipe(dataset['Text']), total=len(dataset)), 0):\n",
    "    for j, token in enumerate(text, 0):\n",
    "        if j <= 65:\n",
    "            data_emb[i, j] = token.vector"
   ]
  },
  {
   "cell_type": "code",
   "execution_count": 7,
   "metadata": {
    "colab": {
     "base_uri": "https://localhost:8080/"
    },
    "id": "jpA5aYCIuUw2",
    "outputId": "73265a9e-4cdd-41fb-d7d4-6f9385f6fd1c"
   },
   "outputs": [
    {
     "data": {
      "text/plain": [
       "array([[0., 0., 0., ..., 1., 0., 0.],\n",
       "       [0., 0., 0., ..., 1., 0., 0.],\n",
       "       [1., 0., 0., ..., 0., 0., 0.],\n",
       "       ...,\n",
       "       [0., 1., 0., ..., 0., 0., 0.],\n",
       "       [0., 0., 1., ..., 0., 0., 0.],\n",
       "       [0., 0., 0., ..., 0., 0., 1.]], dtype=float32)"
      ]
     },
     "execution_count": 7,
     "metadata": {},
     "output_type": "execute_result"
    }
   ],
   "source": [
    "from sklearn.preprocessing import LabelEncoder\n",
    "from tensorflow.keras.utils import to_categorical\n",
    "\n",
    "encoder = LabelEncoder()\n",
    "y_encoder = encoder.fit_transform(dataset['Emotion'])\n",
    "y = to_categorical(y_encoder)\n",
    "y"
   ]
  },
  {
   "cell_type": "code",
   "execution_count": 15,
   "metadata": {
    "colab": {
     "base_uri": "https://localhost:8080/"
    },
    "id": "uoCPSjs6drZ3",
    "outputId": "968acea0-49e7-4c8d-ebf8-5ca1e6322d7a"
   },
   "outputs": [
    {
     "data": {
      "text/plain": [
       "7"
      ]
     },
     "execution_count": 15,
     "metadata": {},
     "output_type": "execute_result"
    }
   ],
   "source": [
    "len(encoder.classes_)"
   ]
  },
  {
   "cell_type": "markdown",
   "metadata": {
    "id": "EdCdH4YB17ki"
   },
   "source": [
    "### Building a NN as a classifier"
   ]
  },
  {
   "cell_type": "code",
   "execution_count": 28,
   "metadata": {
    "id": "lGTVPi2r17hm"
   },
   "outputs": [],
   "source": [
    "import keras\n",
    "# Prepare the network\n",
    "inputs = keras.layers.Input((longest_input, 96))\n",
    "reshaped = keras.layers.Reshape((longest_input, 96, 1))(inputs)\n",
    "\n",
    "filters = [2, 3, 4]\n",
    "\n",
    "# Define convolution layers\n",
    "conv_1 = keras.layers.Conv2D(100, (filters[0], 96), activation='relu')(reshaped)\n",
    "conv_2 = keras.layers.Conv2D(100, (filters[1], 96), activation='relu')(reshaped)\n",
    "conv_3 = keras.layers.Conv2D(100, (filters[2], 96), activation='relu')(reshaped)\n",
    "\n",
    "# Define pooling layers\n",
    "pool_1 = keras.layers.MaxPooling2D((longest_input - filters[0] +1, 1))(conv_1)\n",
    "pool_2 = keras.layers.MaxPooling2D((longest_input - filters[1] +1, 1))(conv_2)\n",
    "pool_3 = keras.layers.MaxPooling2D((longest_input - filters[2] +1, 1))(conv_3)\n",
    "\n",
    "concatenation = keras.layers.concatenate([pool_1, pool_2, pool_3])\n",
    "flattened = keras.layers.Flatten()(concatenation)\n",
    "dense = keras.layers.Dense(100, activation='relu')(flattened)\n",
    "clf = keras.layers.Dense(len(encoder.classes_), activation='softmax')(dense) #output"
   ]
  },
  {
   "cell_type": "code",
   "execution_count": 29,
   "metadata": {
    "colab": {
     "base_uri": "https://localhost:8080/"
    },
    "id": "AJpx-QS617cq",
    "outputId": "9da90859-dc74-4e02-afb3-5e65badfb7f2"
   },
   "outputs": [
    {
     "name": "stdout",
     "output_type": "stream",
     "text": [
      "Model: \"model_3\"\n",
      "__________________________________________________________________________________________________\n",
      " Layer (type)                   Output Shape         Param #     Connected to                     \n",
      "==================================================================================================\n",
      " input_5 (InputLayer)           [(None, 66, 96)]     0           []                               \n",
      "                                                                                                  \n",
      " reshape_4 (Reshape)            (None, 66, 96, 1)    0           ['input_5[0][0]']                \n",
      "                                                                                                  \n",
      " conv2d_12 (Conv2D)             (None, 65, 1, 100)   19300       ['reshape_4[0][0]']              \n",
      "                                                                                                  \n",
      " conv2d_13 (Conv2D)             (None, 64, 1, 100)   28900       ['reshape_4[0][0]']              \n",
      "                                                                                                  \n",
      " conv2d_14 (Conv2D)             (None, 63, 1, 100)   38500       ['reshape_4[0][0]']              \n",
      "                                                                                                  \n",
      " max_pooling2d_12 (MaxPooling2D  (None, 1, 1, 100)   0           ['conv2d_12[0][0]']              \n",
      " )                                                                                                \n",
      "                                                                                                  \n",
      " max_pooling2d_13 (MaxPooling2D  (None, 1, 1, 100)   0           ['conv2d_13[0][0]']              \n",
      " )                                                                                                \n",
      "                                                                                                  \n",
      " max_pooling2d_14 (MaxPooling2D  (None, 1, 1, 100)   0           ['conv2d_14[0][0]']              \n",
      " )                                                                                                \n",
      "                                                                                                  \n",
      " concatenate_4 (Concatenate)    (None, 1, 1, 300)    0           ['max_pooling2d_12[0][0]',       \n",
      "                                                                  'max_pooling2d_13[0][0]',       \n",
      "                                                                  'max_pooling2d_14[0][0]']       \n",
      "                                                                                                  \n",
      " flatten_4 (Flatten)            (None, 300)          0           ['concatenate_4[0][0]']          \n",
      "                                                                                                  \n",
      " dense_8 (Dense)                (None, 100)          30100       ['flatten_4[0][0]']              \n",
      "                                                                                                  \n",
      " dense_9 (Dense)                (None, 7)            707         ['dense_8[0][0]']                \n",
      "                                                                                                  \n",
      "==================================================================================================\n",
      "Total params: 117,507\n",
      "Trainable params: 117,507\n",
      "Non-trainable params: 0\n",
      "__________________________________________________________________________________________________\n"
     ]
    }
   ],
   "source": [
    "# Create the model\n",
    "model = tf.keras.models.Model(inputs, clf)\n",
    "model.compile(loss='categorical_crossentropy', optimizer='adam', metrics=['acc'])\n",
    "model.summary()"
   ]
  },
  {
   "cell_type": "code",
   "execution_count": 19,
   "metadata": {
    "colab": {
     "base_uri": "https://localhost:8080/"
    },
    "id": "t2v_ZL_X17Z9",
    "outputId": "458a2498-c1b5-4a84-b75a-785a7607eac9"
   },
   "outputs": [
    {
     "name": "stdout",
     "output_type": "stream",
     "text": [
      "Requirement already satisfied: pydot in /usr/local/lib/python3.7/dist-packages (1.3.0)\n",
      "Requirement already satisfied: graphviz in /usr/local/lib/python3.7/dist-packages (0.10.1)\n",
      "Requirement already satisfied: pyparsing>=2.1.4 in /usr/local/lib/python3.7/dist-packages (from pydot) (3.0.8)\n"
     ]
    }
   ],
   "source": [
    "!pip install pydot graphviz"
   ]
  },
  {
   "cell_type": "code",
   "execution_count": 27,
   "metadata": {
    "colab": {
     "base_uri": "https://localhost:8080/",
     "height": 758
    },
    "id": "aGA1UOip17V_",
    "outputId": "e41b7306-a3ca-4e50-ed1b-f10c64788495"
   },
   "outputs": [
    {
     "data": {
      "image/png": "[encoded data removed]",
      "text/plain": [
       "<IPython.core.display.Image object>"
      ]
     },
     "execution_count": 27,
     "metadata": {},
     "output_type": "execute_result"
    }
   ],
   "source": [
    "tf.keras.utils.plot_model(model, show_shapes=False, \n",
    "                          show_layer_names=True, rankdir='TB',\n",
    "                          expand_nested=False, dpi=96)"
   ]
  },
  {
   "cell_type": "markdown",
   "metadata": {
    "id": "UIwKzJFr17Tw"
   },
   "source": [
    "### Train the model"
   ]
  },
  {
   "cell_type": "code",
   "execution_count": 30,
   "metadata": {
    "colab": {
     "base_uri": "https://localhost:8080/"
    },
    "id": "11NdX8C317ID",
    "outputId": "73d277dc-4a11-45c9-c366-8a5a6536fb55"
   },
   "outputs": [
    {
     "name": "stdout",
     "output_type": "stream",
     "text": [
      "Epoch 1/23\n",
      "437/437 [==============================] - 14s 31ms/step - loss: 1.5433 - acc: 0.3769\n",
      "Epoch 2/23\n",
      "437/437 [==============================] - 13s 30ms/step - loss: 1.3209 - acc: 0.4764\n",
      "Epoch 3/23\n",
      "437/437 [==============================] - 13s 31ms/step - loss: 1.1492 - acc: 0.5516\n",
      "Epoch 4/23\n",
      "437/437 [==============================] - 13s 30ms/step - loss: 0.9551 - acc: 0.6372\n",
      "Epoch 5/23\n",
      "437/437 [==============================] - 13s 30ms/step - loss: 0.7771 - acc: 0.7107\n",
      "Epoch 6/23\n",
      "437/437 [==============================] - 13s 30ms/step - loss: 0.6090 - acc: 0.7817\n",
      "Epoch 7/23\n",
      "437/437 [==============================] - 13s 30ms/step - loss: 0.4627 - acc: 0.8349\n",
      "Epoch 8/23\n",
      "437/437 [==============================] - 13s 30ms/step - loss: 0.3445 - acc: 0.8771\n",
      "Epoch 9/23\n",
      "437/437 [==============================] - 13s 30ms/step - loss: 0.2224 - acc: 0.9294\n",
      "Epoch 10/23\n",
      "437/437 [==============================] - 14s 32ms/step - loss: 0.2300 - acc: 0.9188\n",
      "Epoch 11/23\n",
      "437/437 [==============================] - 13s 31ms/step - loss: 0.1671 - acc: 0.9455\n",
      "Epoch 12/23\n",
      "437/437 [==============================] - 13s 30ms/step - loss: 0.1478 - acc: 0.9514\n",
      "Epoch 13/23\n",
      "437/437 [==============================] - 13s 30ms/step - loss: 0.1392 - acc: 0.9544\n",
      "Epoch 14/23\n",
      "437/437 [==============================] - 13s 30ms/step - loss: 0.1529 - acc: 0.9486\n",
      "Epoch 15/23\n",
      "437/437 [==============================] - 13s 31ms/step - loss: 0.1489 - acc: 0.9504\n",
      "Epoch 16/23\n",
      "437/437 [==============================] - 13s 30ms/step - loss: 0.1303 - acc: 0.9564\n",
      "Epoch 17/23\n",
      "437/437 [==============================] - 13s 30ms/step - loss: 0.1071 - acc: 0.9661\n",
      "Epoch 18/23\n",
      "437/437 [==============================] - 13s 30ms/step - loss: 0.0958 - acc: 0.9698\n",
      "Epoch 19/23\n",
      "437/437 [==============================] - 13s 30ms/step - loss: 0.1397 - acc: 0.9533\n",
      "Epoch 20/23\n",
      "437/437 [==============================] - 13s 30ms/step - loss: 0.1018 - acc: 0.9678\n",
      "Epoch 21/23\n",
      "437/437 [==============================] - 13s 30ms/step - loss: 0.0818 - acc: 0.9764\n",
      "Epoch 22/23\n",
      "437/437 [==============================] - 13s 30ms/step - loss: 0.0692 - acc: 0.9812\n",
      "Epoch 23/23\n",
      "437/437 [==============================] - 13s 30ms/step - loss: 0.1130 - acc: 0.9626\n"
     ]
    },
    {
     "data": {
      "text/plain": [
       "<keras.callbacks.History at 0x7f37e5ef7990>"
      ]
     },
     "execution_count": 30,
     "metadata": {},
     "output_type": "execute_result"
    }
   ],
   "source": [
    "from sklearn.model_selection import train_test_split\n",
    "\n",
    "X_train, X_test, y_train, y_test = train_test_split(data_emb, y, test_size=0.3)\n",
    "model.fit(X_train, y_train, epochs=23)"
   ]
  },
  {
   "cell_type": "code",
   "execution_count": 32,
   "metadata": {
    "colab": {
     "base_uri": "https://localhost:8080/"
    },
    "id": "QRocxshig1qn",
    "outputId": "c1bd368d-a017-4603-a84c-c57a0ac62702"
   },
   "outputs": [
    {
     "name": "stdout",
     "output_type": "stream",
     "text": [
      "187/187 [==============================] - 3s 14ms/step - loss: 2.8103 - acc: 0.5481\n"
     ]
    },
    {
     "data": {
      "text/plain": [
       "[2.810325860977173, 0.5480527877807617]"
      ]
     },
     "execution_count": 32,
     "metadata": {},
     "output_type": "execute_result"
    }
   ],
   "source": [
    "# Model evaluation\n",
    "model.evaluate(X_test, y_test)"
   ]
  },
  {
   "cell_type": "code",
   "execution_count": 64,
   "metadata": {
    "id": "oVhsNyJAxCpz"
   },
   "outputs": [],
   "source": [
    "def emotion_prediction(text):\n",
    "    text_vec = np.zeros((1, longest_input, 96))\n",
    "    for i, token in enumerate(nlp(text)):\n",
    "        if i <= longest_input:\n",
    "            text_vec[0, i] = token.vector\n",
    "\n",
    "    prediction = np.argmax(model.predict(text_vec))\n",
    "    return encoder.classes_[prediction]"
   ]
  },
  {
   "cell_type": "code",
   "execution_count": 65,
   "metadata": {
    "colab": {
     "base_uri": "https://localhost:8080/"
    },
    "id": "SJywsHk_xra8",
    "outputId": "1fa65063-41bb-40ec-c5cb-eeba38ad89a2"
   },
   "outputs": [
    {
     "name": "stdout",
     "output_type": "stream",
     "text": [
      "sadness\n",
      "happy\n"
     ]
    }
   ],
   "source": [
    "print(emotion_prediction(\"I feel sad about what is happening in occupied Palestineee🇸🇩\"))\n",
    "print(emotion_prediction(\"I'm very happy for hearnign that\"))"
   ]
  }
 ],
 "metadata": {
  "colab": {
   "collapsed_sections": [],
   "name": "2_N-Gram with word embeddings.ipynb",
   "provenance": []
  },
  "kernelspec": {
   "display_name": "Python 3",
   "language": "python",
   "name": "python3"
  },
  "language_info": {
   "codemirror_mode": {
    "name": "ipython",
    "version": 3
   },
   "file_extension": ".py",
   "mimetype": "text/x-python",
   "name": "python",
   "nbconvert_exporter": "python",
   "pygments_lexer": "ipython3",
   "version": "3.8.5"
  },
  "widgets": {
   "application/vnd.jupyter.widget-state+json": {
    "06c3a365039d4eba9ccd943682569fb8": {
     "model_module": "@jupyter-widgets/base",
     "model_module_version": "1.2.0",
     "model_name": "LayoutModel",
     "state": {
      "_model_module": "@jupyter-widgets/base",
      "_model_module_version": "1.2.0",
      "_model_name": "LayoutModel",
      "_view_count": null,
      "_view_module": "@jupyter-widgets/base",
      "_view_module_version": "1.2.0",
      "_view_name": "LayoutView",
      "align_content": null,
      "align_items": null,
      "align_self": null,
      "border": null,
      "bottom": null,
      "display": null,
      "flex": null,
      "flex_flow": null,
      "grid_area": null,
      "grid_auto_columns": null,
      "grid_auto_flow": null,
      "grid_auto_rows": null,
      "grid_column": null,
      "grid_gap": null,
      "grid_row": null,
      "grid_template_areas": null,
      "grid_template_columns": null,
      "grid_template_rows": null,
      "height": null,
      "justify_content": null,
      "justify_items": null,
      "left": null,
      "margin": null,
      "max_height": null,
      "max_width": null,
      "min_height": null,
      "min_width": null,
      "object_fit": null,
      "object_position": null,
      "order": null,
      "overflow": null,
      "overflow_x": null,
      "overflow_y": null,
      "padding": null,
      "right": null,
      "top": null,
      "visibility": null,
      "width": null
     }
    },
    "226b42ed88e545bcbe7dc039b8a2e32f": {
     "model_module": "@jupyter-widgets/base",
     "model_module_version": "1.2.0",
     "model_name": "LayoutModel",
     "state": {
      "_model_module": "@jupyter-widgets/base",
      "_model_module_version": "1.2.0",
      "_model_name": "LayoutModel",
      "_view_count": null,
      "_view_module": "@jupyter-widgets/base",
      "_view_module_version": "1.2.0",
      "_view_name": "LayoutView",
      "align_content": null,
      "align_items": null,
      "align_self": null,
      "border": null,
      "bottom": null,
      "display": null,
      "flex": null,
      "flex_flow": null,
      "grid_area": null,
      "grid_auto_columns": null,
      "grid_auto_flow": null,
      "grid_auto_rows": null,
      "grid_column": null,
      "grid_gap": null,
      "grid_row": null,
      "grid_template_areas": null,
      "grid_template_columns": null,
      "grid_template_rows": null,
      "height": null,
      "justify_content": null,
      "justify_items": null,
      "left": null,
      "margin": null,
      "max_height": null,
      "max_width": null,
      "min_height": null,
      "min_width": null,
      "object_fit": null,
      "object_position": null,
      "order": null,
      "overflow": null,
      "overflow_x": null,
      "overflow_y": null,
      "padding": null,
      "right": null,
      "top": null,
      "visibility": null,
      "width": null
     }
    },
    "397abc4ef6e54c59812f1b86100fd8cd": {
     "model_module": "@jupyter-widgets/controls",
     "model_module_version": "1.5.0",
     "model_name": "ProgressStyleModel",
     "state": {
      "_model_module": "@jupyter-widgets/controls",
      "_model_module_version": "1.5.0",
      "_model_name": "ProgressStyleModel",
      "_view_count": null,
      "_view_module": "@jupyter-widgets/base",
      "_view_module_version": "1.2.0",
      "_view_name": "StyleView",
      "bar_color": null,
      "description_width": ""
     }
    },
    "ba1e850feac940f6a741bccea234f4fb": {
     "model_module": "@jupyter-widgets/base",
     "model_module_version": "1.2.0",
     "model_name": "LayoutModel",
     "state": {
      "_model_module": "@jupyter-widgets/base",
      "_model_module_version": "1.2.0",
      "_model_name": "LayoutModel",
      "_view_count": null,
      "_view_module": "@jupyter-widgets/base",
      "_view_module_version": "1.2.0",
      "_view_name": "LayoutView",
      "align_content": null,
      "align_items": null,
      "align_self": null,
      "border": null,
      "bottom": null,
      "display": null,
      "flex": null,
      "flex_flow": null,
      "grid_area": null,
      "grid_auto_columns": null,
      "grid_auto_flow": null,
      "grid_auto_rows": null,
      "grid_column": null,
      "grid_gap": null,
      "grid_row": null,
      "grid_template_areas": null,
      "grid_template_columns": null,
      "grid_template_rows": null,
      "height": null,
      "justify_content": null,
      "justify_items": null,
      "left": null,
      "margin": null,
      "max_height": null,
      "max_width": null,
      "min_height": null,
      "min_width": null,
      "object_fit": null,
      "object_position": null,
      "order": null,
      "overflow": null,
      "overflow_x": null,
      "overflow_y": null,
      "padding": null,
      "right": null,
      "top": null,
      "visibility": null,
      "width": null
     }
    },
    "c79604b118fe48bba8094ce9268ce1ae": {
     "model_module": "@jupyter-widgets/controls",
     "model_module_version": "1.5.0",
     "model_name": "HBoxModel",
     "state": {
      "_dom_classes": [],
      "_model_module": "@jupyter-widgets/controls",
      "_model_module_version": "1.5.0",
      "_model_name": "HBoxModel",
      "_view_count": null,
      "_view_module": "@jupyter-widgets/controls",
      "_view_module_version": "1.5.0",
      "_view_name": "HBoxView",
      "box_style": "",
      "children": [
       "IPY_MODEL_f9b6542ecdd1494f92671fa526c30d94",
       "IPY_MODEL_eea526feba5f402bbbdd350132e8f0d8",
       "IPY_MODEL_d0834076709640b285dd107ee887daf2"
      ],
      "layout": "IPY_MODEL_226b42ed88e545bcbe7dc039b8a2e32f"
     }
    },
    "d0834076709640b285dd107ee887daf2": {
     "model_module": "@jupyter-widgets/controls",
     "model_module_version": "1.5.0",
     "model_name": "HTMLModel",
     "state": {
      "_dom_classes": [],
      "_model_module": "@jupyter-widgets/controls",
      "_model_module_version": "1.5.0",
      "_model_name": "HTMLModel",
      "_view_count": null,
      "_view_module": "@jupyter-widgets/controls",
      "_view_module_version": "1.5.0",
      "_view_name": "HTMLView",
      "description": "",
      "description_tooltip": null,
      "layout": "IPY_MODEL_dd234863280b444c8f66f5402184b33b",
      "placeholder": "​",
      "style": "IPY_MODEL_e1881851622a467ea037742cc4728235",
      "value": " 19943/19943 [00:48&lt;00:00, 431.45it/s]"
     }
    },
    "dd234863280b444c8f66f5402184b33b": {
     "model_module": "@jupyter-widgets/base",
     "model_module_version": "1.2.0",
     "model_name": "LayoutModel",
     "state": {
      "_model_module": "@jupyter-widgets/base",
      "_model_module_version": "1.2.0",
      "_model_name": "LayoutModel",
      "_view_count": null,
      "_view_module": "@jupyter-widgets/base",
      "_view_module_version": "1.2.0",
      "_view_name": "LayoutView",
      "align_content": null,
      "align_items": null,
      "align_self": null,
      "border": null,
      "bottom": null,
      "display": null,
      "flex": null,
      "flex_flow": null,
      "grid_area": null,
      "grid_auto_columns": null,
      "grid_auto_flow": null,
      "grid_auto_rows": null,
      "grid_column": null,
      "grid_gap": null,
      "grid_row": null,
      "grid_template_areas": null,
      "grid_template_columns": null,
      "grid_template_rows": null,
      "height": null,
      "justify_content": null,
      "justify_items": null,
      "left": null,
      "margin": null,
      "max_height": null,
      "max_width": null,
      "min_height": null,
      "min_width": null,
      "object_fit": null,
      "object_position": null,
      "order": null,
      "overflow": null,
      "overflow_x": null,
      "overflow_y": null,
      "padding": null,
      "right": null,
      "top": null,
      "visibility": null,
      "width": null
     }
    },
    "e1881851622a467ea037742cc4728235": {
     "model_module": "@jupyter-widgets/controls",
     "model_module_version": "1.5.0",
     "model_name": "DescriptionStyleModel",
     "state": {
      "_model_module": "@jupyter-widgets/controls",
      "_model_module_version": "1.5.0",
      "_model_name": "DescriptionStyleModel",
      "_view_count": null,
      "_view_module": "@jupyter-widgets/base",
      "_view_module_version": "1.2.0",
      "_view_name": "StyleView",
      "description_width": ""
     }
    },
    "e1addffa087d46b5b13301db4849de10": {
     "model_module": "@jupyter-widgets/controls",
     "model_module_version": "1.5.0",
     "model_name": "DescriptionStyleModel",
     "state": {
      "_model_module": "@jupyter-widgets/controls",
      "_model_module_version": "1.5.0",
      "_model_name": "DescriptionStyleModel",
      "_view_count": null,
      "_view_module": "@jupyter-widgets/base",
      "_view_module_version": "1.2.0",
      "_view_name": "StyleView",
      "description_width": ""
     }
    },
    "eea526feba5f402bbbdd350132e8f0d8": {
     "model_module": "@jupyter-widgets/controls",
     "model_module_version": "1.5.0",
     "model_name": "FloatProgressModel",
     "state": {
      "_dom_classes": [],
      "_model_module": "@jupyter-widgets/controls",
      "_model_module_version": "1.5.0",
      "_model_name": "FloatProgressModel",
      "_view_count": null,
      "_view_module": "@jupyter-widgets/controls",
      "_view_module_version": "1.5.0",
      "_view_name": "ProgressView",
      "bar_style": "success",
      "description": "",
      "description_tooltip": null,
      "layout": "IPY_MODEL_ba1e850feac940f6a741bccea234f4fb",
      "max": 19943,
      "min": 0,
      "orientation": "horizontal",
      "style": "IPY_MODEL_397abc4ef6e54c59812f1b86100fd8cd",
      "value": 19943
     }
    },
    "f9b6542ecdd1494f92671fa526c30d94": {
     "model_module": "@jupyter-widgets/controls",
     "model_module_version": "1.5.0",
     "model_name": "HTMLModel",
     "state": {
      "_dom_classes": [],
      "_model_module": "@jupyter-widgets/controls",
      "_model_module_version": "1.5.0",
      "_model_name": "HTMLModel",
      "_view_count": null,
      "_view_module": "@jupyter-widgets/controls",
      "_view_module_version": "1.5.0",
      "_view_name": "HTMLView",
      "description": "",
      "description_tooltip": null,
      "layout": "IPY_MODEL_06c3a365039d4eba9ccd943682569fb8",
      "placeholder": "​",
      "style": "IPY_MODEL_e1addffa087d46b5b13301db4849de10",
      "value": "100%"
     }
    }
   }
  }
 },
 "nbformat": 4,
 "nbformat_minor": 4
}
