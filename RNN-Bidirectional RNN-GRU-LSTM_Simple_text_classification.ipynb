{
 "cells": [
  {
   "cell_type": "code",
   "execution_count": 1,
   "metadata": {
    "id": "mtHgp52V55kl"
   },
   "outputs": [],
   "source": [
    "import pandas as pd\n",
    "import numpy as np\n",
    "import tensorflow as tf\n",
    "import spacy "
   ]
  },
  {
   "cell_type": "markdown",
   "metadata": {
    "id": "I_emPzVCYVOI"
   },
   "source": [
    "### 1) Data preparation"
   ]
  },
  {
   "cell_type": "code",
   "execution_count": 2,
   "metadata": {
    "id": "G4elipDa55cV"
   },
   "outputs": [],
   "source": [
    "word2index = tf.keras.datasets.imdb.get_word_index()\n",
    "VOCAB_SIZE = len(word2index)"
   ]
  },
  {
   "cell_type": "code",
   "execution_count": 3,
   "metadata": {
    "id": "JpdI7go29ApB"
   },
   "outputs": [],
   "source": [
    "(X_train, y_train), (X_test, y_test) = tf.keras.datasets.imdb.load_data()"
   ]
  },
  {
   "cell_type": "code",
   "execution_count": 4,
   "metadata": {
    "colab": {
     "base_uri": "https://localhost:8080/"
    },
    "id": "_RK-ThRc96X3",
    "outputId": "330d2c8c-c56f-4424-9165-49a3b3572119"
   },
   "outputs": [
    {
     "name": "stdout",
     "output_type": "stream",
     "text": [
      "(25000,)\n",
      "(25000,)\n"
     ]
    }
   ],
   "source": [
    "# #training exambles\n",
    "print(X_train.shape)\n",
    "# #testing set\n",
    "print(X_test.shape)"
   ]
  },
  {
   "cell_type": "code",
   "execution_count": 5,
   "metadata": {
    "colab": {
     "base_uri": "https://localhost:8080/"
    },
    "id": "6mncdGvW-MQS",
    "outputId": "ba33ced5-8065-49e9-9ca1-ab9effbc2caa"
   },
   "outputs": [
    {
     "name": "stdout",
     "output_type": "stream",
     "text": [
      "218\n",
      "189\n"
     ]
    }
   ],
   "source": [
    "print(len(X_train[0]))\n",
    "print(len(X_train[1]))"
   ]
  },
  {
   "cell_type": "code",
   "execution_count": 6,
   "metadata": {
    "colab": {
     "base_uri": "https://localhost:8080/"
    },
    "id": "ZRfW0nY5_a_Z",
    "outputId": "8029f7b6-61c5-4fb4-b05d-44304424d14e"
   },
   "outputs": [
    {
     "name": "stdout",
     "output_type": "stream",
     "text": [
      "88584\n"
     ]
    }
   ],
   "source": [
    "idx2word = {v : k for k, v in word2index.items()}\n",
    "print(len(idx2word))"
   ]
  },
  {
   "cell_type": "code",
   "execution_count": 7,
   "metadata": {
    "id": "EkuuRB8fAPyp"
   },
   "outputs": [],
   "source": [
    "def text_reconstruction(tokens):\n",
    "  text = []\n",
    "  for token in tokens:\n",
    "    text.append(idx2word[token])\n",
    "  return \" \".join(text)"
   ]
  },
  {
   "cell_type": "code",
   "execution_count": 8,
   "metadata": {
    "colab": {
     "base_uri": "https://localhost:8080/",
     "height": 146
    },
    "id": "QhYjgc0lBQBE",
    "outputId": "f36ccfd1-4b0b-423a-85c6-0ffa210da30a"
   },
   "outputs": [
    {
     "data": {
      "application/vnd.google.colaboratory.intrinsic+json": {
       "type": "string"
      },
      "text/plain": [
       "\"the as you with out themselves powerful lets loves their becomes reaching had journalist of lot from anyone to have after out atmosphere never more room titillate it so heart shows to years of every never going villaronga help moments or of every chest visual movie except her was several of enough more with is now current film as you of mine potentially unfortunately of you than him that with out themselves her get for was camp of you movie sometimes movie that with scary but pratfalls to story wonderful that in seeing in character to of 70s musicians with heart had shadows they of here that with her serious to have does when from why what have critics they is you that isn't one will very to as itself with other tricky in of seen over landed for anyone of gilmore's br show's to whether from than out themselves history he name half some br of 'n odd was two most of mean for 1 any an boat she he should is thought frog but of script you not while history he heart to real at barrel but when from one bit then have two of script their with her nobody most that with wasn't to with armed acting watch an for with heartfelt film want an\""
      ]
     },
     "execution_count": 8,
     "metadata": {},
     "output_type": "execute_result"
    }
   ],
   "source": [
    "text_reconstruction(X_train[0])"
   ]
  },
  {
   "cell_type": "code",
   "execution_count": 9,
   "metadata": {
    "colab": {
     "base_uri": "https://localhost:8080/"
    },
    "id": "EXq03PivBSyh",
    "outputId": "e3b8a427-1c6c-49c4-bd57-221157db50d4"
   },
   "outputs": [
    {
     "data": {
      "text/plain": [
       "array([0, 1])"
      ]
     },
     "execution_count": 9,
     "metadata": {},
     "output_type": "execute_result"
    }
   ],
   "source": [
    "np.unique(y_train)"
   ]
  },
  {
   "cell_type": "code",
   "execution_count": 10,
   "metadata": {
    "id": "x4URHzV-CdHj"
   },
   "outputs": [],
   "source": [
    "# Make padding according to 100 length for all sequences insted of the longest_sequence because it's too large\n",
    "def padding(dataset, seq_length):\n",
    "  padded = np.zeros((len(dataset), seq_length))\n",
    "  for i, tokens in enumerate(dataset):\n",
    "    padded[i, :len(tokens)] = tokens[:seq_length]\n",
    "  return padded"
   ]
  },
  {
   "cell_type": "code",
   "execution_count": 11,
   "metadata": {
    "colab": {
     "base_uri": "https://localhost:8080/"
    },
    "id": "OpT2vRsyEVYC",
    "outputId": "88546fd6-bb1a-4665-fad4-1ac2cb46e778"
   },
   "outputs": [
    {
     "name": "stdout",
     "output_type": "stream",
     "text": [
      "(25000, 100) (25000, 100)\n"
     ]
    }
   ],
   "source": [
    "X_train_padded = padding(X_train, 100)\n",
    "X_test_padded  = padding(X_test, 100)\n",
    "print(X_train_padded.shape, X_test_padded.shape)"
   ]
  },
  {
   "cell_type": "markdown",
   "metadata": {
    "id": "6qLbAEUlZ2a8"
   },
   "source": [
    "### 2) Build and train the model"
   ]
  },
  {
   "cell_type": "code",
   "execution_count": 12,
   "metadata": {
    "id": "-Got-eZ5E0oF"
   },
   "outputs": [],
   "source": [
    "# Build SimpleRNN model\n",
    "model = tf.keras.models.Sequential([\n",
    "                    tf.keras.layers.Embedding(VOCAB_SIZE, 64),\n",
    "                    tf.keras.layers.SimpleRNN(64),\n",
    "                    tf.keras.layers.Dense(64, activation='relu'),\n",
    "                    tf.keras.layers.Dense(1, activation='sigmoid')\n",
    "])"
   ]
  },
  {
   "cell_type": "code",
   "execution_count": 13,
   "metadata": {
    "colab": {
     "base_uri": "https://localhost:8080/"
    },
    "id": "oeYB8TyTTbKl",
    "outputId": "71dea798-477c-4d51-fa36-e9aba4f59d7a"
   },
   "outputs": [
    {
     "name": "stdout",
     "output_type": "stream",
     "text": [
      "Epoch 1/5\n",
      "137/137 [==============================] - 21s 143ms/step - loss: 0.6933 - accuracy: 0.5146 - val_loss: 0.6891 - val_accuracy: 0.5363\n",
      "Epoch 2/5\n",
      "137/137 [==============================] - 19s 139ms/step - loss: 0.5133 - accuracy: 0.7595 - val_loss: 0.5252 - val_accuracy: 0.7585\n",
      "Epoch 3/5\n",
      "137/137 [==============================] - 21s 157ms/step - loss: 0.1711 - accuracy: 0.9378 - val_loss: 0.6155 - val_accuracy: 0.7575\n",
      "Epoch 4/5\n",
      "137/137 [==============================] - 19s 138ms/step - loss: 0.0423 - accuracy: 0.9881 - val_loss: 0.8057 - val_accuracy: 0.7772\n",
      "Epoch 5/5\n",
      "137/137 [==============================] - 20s 145ms/step - loss: 0.0320 - accuracy: 0.9904 - val_loss: 0.8869 - val_accuracy: 0.7565\n"
     ]
    }
   ],
   "source": [
    "model.compile(optimizer=tf.keras.optimizers.Adam(), loss=tf.keras.losses.BinaryCrossentropy(), metrics=['accuracy'])\n",
    "histoey = model.fit(X_train_padded, y_train, epochs=5, batch_size=128, validation_split=0.3)"
   ]
  },
  {
   "cell_type": "code",
   "execution_count": 14,
   "metadata": {
    "colab": {
     "base_uri": "https://localhost:8080/"
    },
    "id": "RqcDnYysWh4Y",
    "outputId": "cad44efb-c0ea-4f58-a220-c5e1291e8fae"
   },
   "outputs": [
    {
     "name": "stdout",
     "output_type": "stream",
     "text": [
      "782/782 [==============================] - 10s 13ms/step - loss: 0.9546 - accuracy: 0.7381\n",
      "Loss:  0.954551637172699\n",
      "Accuracy:  0.7381200194358826\n"
     ]
    }
   ],
   "source": [
    "test_loss, test_acc = model.evaluate(X_test_padded, y_test)\n",
    "print('Loss: ', test_loss)\n",
    "print('Accuracy: ', test_acc)"
   ]
  },
  {
   "cell_type": "markdown",
   "metadata": {
    "id": "m8fGz6qDXjJL"
   },
   "source": [
    "### Try Bidirectional RNN"
   ]
  },
  {
   "cell_type": "code",
   "execution_count": 15,
   "metadata": {
    "id": "r4_2jxItaZtW"
   },
   "outputs": [],
   "source": [
    "model = tf.keras.models.Sequential([\n",
    "                      tf.keras.layers.Embedding(VOCAB_SIZE, 64),\n",
    "                      # return_sequences --> to return the result on each time stamp to be used by the next layer\n",
    "                      tf.keras.layers.Bidirectional(tf.keras.layers.SimpleRNN(64, return_sequences=True)),\n",
    "                      tf.keras.layers.Bidirectional(tf.keras.layers.SimpleRNN(64)),\n",
    "                      tf.keras.layers.Dense(64, activation='relu'),\n",
    "                      tf.keras.layers.Dense(1, activation='sigmoid')\n",
    "])"
   ]
  },
  {
   "cell_type": "code",
   "execution_count": 16,
   "metadata": {
    "id": "tW4kJq_Eel27"
   },
   "outputs": [],
   "source": [
    "model.compile(loss=tf.keras.losses.BinaryCrossentropy(),\n",
    "              optimizer=tf.keras.optimizers.Adam(),\n",
    "              metrics=['accuracy'])"
   ]
  },
  {
   "cell_type": "code",
   "execution_count": 17,
   "metadata": {
    "colab": {
     "base_uri": "https://localhost:8080/"
    },
    "id": "4_Wy61NgfXMg",
    "outputId": "2e080393-b5b3-46fa-928e-3c8d106bcb1c"
   },
   "outputs": [
    {
     "name": "stdout",
     "output_type": "stream",
     "text": [
      "Epoch 1/5\n",
      "196/196 [==============================] - 98s 483ms/step - loss: 0.5511 - accuracy: 0.7171 - val_loss: 0.4683 - val_accuracy: 0.7815\n",
      "Epoch 2/5\n",
      "196/196 [==============================] - 94s 480ms/step - loss: 0.3201 - accuracy: 0.8699 - val_loss: 0.5387 - val_accuracy: 0.7930\n",
      "Epoch 3/5\n",
      "196/196 [==============================] - 94s 478ms/step - loss: 0.1384 - accuracy: 0.9511 - val_loss: 0.6406 - val_accuracy: 0.7888\n",
      "Epoch 4/5\n",
      "196/196 [==============================] - 96s 488ms/step - loss: 0.0476 - accuracy: 0.9848 - val_loss: 0.8844 - val_accuracy: 0.7698\n",
      "Epoch 5/5\n",
      "196/196 [==============================] - 96s 488ms/step - loss: 0.0339 - accuracy: 0.9876 - val_loss: 0.9108 - val_accuracy: 0.7656\n"
     ]
    }
   ],
   "source": [
    "history = model.fit(X_train_padded, y_train, epochs=5, batch_size=128,\n",
    "                    validation_data=(X_test_padded, y_test), \n",
    "                    validation_steps=30)"
   ]
  },
  {
   "cell_type": "code",
   "execution_count": 18,
   "metadata": {
    "colab": {
     "base_uri": "https://localhost:8080/"
    },
    "id": "kqRO9V5l4zjE",
    "outputId": "a36bf9cc-add9-444a-d2db-d6ea5609f434"
   },
   "outputs": [
    {
     "name": "stdout",
     "output_type": "stream",
     "text": [
      "782/782 [==============================] - 32s 41ms/step - loss: 0.9104 - accuracy: 0.7619\n",
      "0.9103752970695496 0.7619199752807617\n"
     ]
    }
   ],
   "source": [
    "test_loss, test_acc = model.evaluate(X_test_padded, y_test)\n",
    "print(test_loss, test_acc)"
   ]
  },
  {
   "cell_type": "markdown",
   "metadata": {
    "id": "M-GFcYn0f34z"
   },
   "source": [
    "### Build GRU"
   ]
  },
  {
   "cell_type": "code",
   "execution_count": 19,
   "metadata": {
    "id": "Q-zimWWYgYbs"
   },
   "outputs": [],
   "source": [
    "Bidir_GRU = tf.keras.models.Sequential([\n",
    "                        tf.keras.layers.Embedding(VOCAB_SIZE, 64),\n",
    "                        tf.keras.layers.Bidirectional(tf.keras.layers.GRU(64, return_sequences=True)),\n",
    "                        tf.keras.layers.Bidirectional(tf.keras.layers.GRU(64)),\n",
    "                        tf.keras.layers.Dense(64, activation='relu'),\n",
    "                        tf.keras.layers.Dense(1, activation='sigmoid')\n",
    "])"
   ]
  },
  {
   "cell_type": "code",
   "execution_count": 20,
   "metadata": {
    "colab": {
     "base_uri": "https://localhost:8080/"
    },
    "id": "qS8agT_bjeMs",
    "outputId": "408c9999-52f5-496e-9993-f801a1c34633"
   },
   "outputs": [
    {
     "name": "stdout",
     "output_type": "stream",
     "text": [
      "Epoch 1/5\n",
      "196/196 [==============================] - 27s 101ms/step - loss: 0.4983 - accuracy: 0.7341\n",
      "Epoch 2/5\n",
      "196/196 [==============================] - 20s 100ms/step - loss: 0.2417 - accuracy: 0.9037\n",
      "Epoch 3/5\n",
      "196/196 [==============================] - 20s 100ms/step - loss: 0.1222 - accuracy: 0.9574\n",
      "Epoch 4/5\n",
      "196/196 [==============================] - 20s 100ms/step - loss: 0.0572 - accuracy: 0.9808\n",
      "Epoch 5/5\n",
      "196/196 [==============================] - 19s 99ms/step - loss: 0.0272 - accuracy: 0.9907\n"
     ]
    },
    {
     "data": {
      "text/plain": [
       "<keras.callbacks.History at 0x7fa5da401ad0>"
      ]
     },
     "execution_count": 20,
     "metadata": {},
     "output_type": "execute_result"
    }
   ],
   "source": [
    "Bidir_GRU.compile(optimizer=tf.keras.optimizers.Adam(),\n",
    "                  loss=tf.keras.losses.BinaryCrossentropy(),\n",
    "                  metrics=['accuracy'])\n",
    "Bidir_GRU.fit(X_train_padded, y_train, epochs=5, batch_size=128)"
   ]
  },
  {
   "cell_type": "code",
   "execution_count": 21,
   "metadata": {
    "colab": {
     "base_uri": "https://localhost:8080/"
    },
    "id": "ugzE-h9C9L9r",
    "outputId": "eade5efa-6f4d-4d06-c637-4085341bd970"
   },
   "outputs": [
    {
     "name": "stdout",
     "output_type": "stream",
     "text": [
      "782/782 [==============================] - 30s 37ms/step - loss: 0.9866 - accuracy: 0.7786\n"
     ]
    }
   ],
   "source": [
    "test_loss, test_acc = Bidir_GRU.evaluate(X_test_padded, y_test)"
   ]
  },
  {
   "cell_type": "markdown",
   "metadata": {
    "id": "AZWgPEMe9aNT"
   },
   "source": [
    "### LSTM\n",
    "**For long sequences**"
   ]
  },
  {
   "cell_type": "code",
   "execution_count": 22,
   "metadata": {
    "colab": {
     "base_uri": "https://localhost:8080/"
    },
    "id": "SOtruKqC9wQx",
    "outputId": "b4042e1d-859a-4540-f3ac-f77936329485"
   },
   "outputs": [
    {
     "name": "stdout",
     "output_type": "stream",
     "text": [
      "2494\n",
      "(25000, 2494)\n",
      "(25000, 2494)\n"
     ]
    }
   ],
   "source": [
    "# Here we will not shrink text length,and will make padding according to the longest sequence in the set\n",
    "longest_sequence = max([len(i) for i in X_train])\n",
    "print(longest_sequence)\n",
    "train = padding(X_train, longest_sequence)\n",
    "test = padding(X_test, longest_sequence)\n",
    "print(train.shape)\n",
    "print(test.shape)"
   ]
  },
  {
   "cell_type": "code",
   "execution_count": 23,
   "metadata": {
    "id": "JSvV4dvh9wOv"
   },
   "outputs": [],
   "source": [
    "Bidir_LSTM = tf.keras.models.Sequential([\n",
    "                              tf.keras.layers.Embedding(VOCAB_SIZE, 64),\n",
    "                              tf.keras.layers.Bidirectional(tf.keras.layers.LSTM(64, return_sequences=True)),\n",
    "                              tf.keras.layers.Bidirectional(tf.keras.layers.LSTM(64)),\n",
    "                              tf.keras.layers.Dense(64, activation='relu'),\n",
    "                              tf.keras.layers.Dense(1, activation='sigmoid')\n",
    "])"
   ]
  },
  {
   "cell_type": "code",
   "execution_count": 24,
   "metadata": {
    "id": "T1LMxDfHDJYF"
   },
   "outputs": [],
   "source": [
    "Bidir_LSTM.compile(loss=tf.keras.losses.BinaryCrossentropy(),\n",
    "              optimizer=tf.keras.optimizers.Adam(),\n",
    "              metrics=['accuracy'])"
   ]
  },
  {
   "cell_type": "code",
   "execution_count": 25,
   "metadata": {
    "colab": {
     "base_uri": "https://localhost:8080/"
    },
    "id": "R3fLKa_TDoYr",
    "outputId": "137ea9ea-e483-44ff-d0f4-1afe9b38c02a"
   },
   "outputs": [
    {
     "name": "stdout",
     "output_type": "stream",
     "text": [
      "Epoch 1/5\n",
      "782/782 [==============================] - 89s 105ms/step - loss: 0.4384 - accuracy: 0.7878 - val_loss: 0.4359 - val_accuracy: 0.8042\n",
      "Epoch 2/5\n",
      "782/782 [==============================] - 77s 99ms/step - loss: 0.2111 - accuracy: 0.9198 - val_loss: 0.5224 - val_accuracy: 0.7853\n",
      "Epoch 3/5\n",
      "782/782 [==============================] - 78s 100ms/step - loss: 0.0954 - accuracy: 0.9657 - val_loss: 0.6633 - val_accuracy: 0.7838\n",
      "Epoch 4/5\n",
      "782/782 [==============================] - 78s 99ms/step - loss: 0.0445 - accuracy: 0.9849 - val_loss: 0.9787 - val_accuracy: 0.7829\n",
      "Epoch 5/5\n",
      "782/782 [==============================] - 78s 100ms/step - loss: 0.0269 - accuracy: 0.9909 - val_loss: 1.0926 - val_accuracy: 0.7803\n"
     ]
    },
    {
     "data": {
      "text/plain": [
       "<keras.callbacks.History at 0x7fa5d8cbd7d0>"
      ]
     },
     "execution_count": 25,
     "metadata": {},
     "output_type": "execute_result"
    }
   ],
   "source": [
    "Bidir_LSTM.fit(X_train_padded, y_train, epochs=5,\n",
    "                    validation_data=(X_test_padded, y_test), \n",
    "                    validation_steps=30)"
   ]
  },
  {
   "cell_type": "code",
   "execution_count": 26,
   "metadata": {
    "colab": {
     "base_uri": "https://localhost:8080/"
    },
    "id": "tu0c4HzxDsGK",
    "outputId": "a7196c3a-a0ce-417f-f1c4-e0ca265da85c"
   },
   "outputs": [
    {
     "name": "stdout",
     "output_type": "stream",
     "text": [
      "782/782 [==============================] - 29s 37ms/step - loss: 1.0926 - accuracy: 0.7803\n",
      "Test Loss: 1.0926005840301514\n",
      "Test Accuracy: 0.7802799940109253\n"
     ]
    }
   ],
   "source": [
    "test_loss, test_acc = Bidir_LSTM.evaluate(X_test_padded, y_test)\n",
    "\n",
    "print('Test Loss: {}'.format(test_loss))\n",
    "print('Test Accuracy: {}'.format(test_acc))"
   ]
  }
 ],
 "metadata": {
  "accelerator": "GPU",
  "colab": {
   "collapsed_sections": [],
   "name": "LSTM-Simple text classification.ipynb",
   "provenance": []
  },
  "kernelspec": {
   "display_name": "Python 3",
   "language": "python",
   "name": "python3"
  },
  "language_info": {
   "codemirror_mode": {
    "name": "ipython",
    "version": 3
   },
   "file_extension": ".py",
   "mimetype": "text/x-python",
   "name": "python",
   "nbconvert_exporter": "python",
   "pygments_lexer": "ipython3",
   "version": "3.8.5"
  }
 },
 "nbformat": 4,
 "nbformat_minor": 1
}
