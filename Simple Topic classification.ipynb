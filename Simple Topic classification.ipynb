{
 "cells": [
  {
   "cell_type": "code",
   "execution_count": 9,
   "metadata": {},
   "outputs": [],
   "source": [
    "# I Will represent a simple way of classifying news \n",
    "from collections import Counter\n",
    "import random\n",
    "from termcolor import colored\n",
    "from sklearn.metrics.pairwise import cosine_similarity, cosine_distances\n",
    "import numpy as np\n",
    "from sklearn.model_selection import train_test_split\n",
    "from sklearn.datasets import fetch_20newsgroups"
   ]
  },
  {
   "cell_type": "code",
   "execution_count": 11,
   "metadata": {},
   "outputs": [],
   "source": [
    "data = fetch_20newsgroups(subset='test',\n",
    "                          remove=['headers', 'footers', 'quotes'],\n",
    "                          categories=['rec.autos', 'comp.windows.x', 'soc.religion.christian', 'rec.sport.baseball'])"
   ]
  },
  {
   "cell_type": "code",
   "execution_count": 22,
   "metadata": {},
   "outputs": [],
   "source": [
    "x = data.data\n",
    "y = [data.target_names[i] for i in data.target]"
   ]
  },
  {
   "cell_type": "code",
   "execution_count": 19,
   "metadata": {},
   "outputs": [
    {
     "name": "stdout",
     "output_type": "stream",
     "text": [
      "With all the recent problems the Indians have been having\n",
      "with their pitching staff I have heard numerous names\n",
      "thrown around about who could solve their problem.\n",
      "\n",
      "One name I have not heard is Mike Soper (RP).  As far as\n",
      "I know, Soper has had pretty good minor league stats.\n",
      "Why not give the kid a chance?  Anyone know anything about\n",
      "this guy?\n",
      "\n",
      "-- \n",
      "comp.windows.x\n"
     ]
    }
   ],
   "source": [
    "print(x[0])\n",
    "print(y[0])"
   ]
  },
  {
   "cell_type": "code",
   "execution_count": 23,
   "metadata": {},
   "outputs": [
    {
     "data": {
      "text/plain": [
       "Counter({'rec.sport.baseball': 397,\n",
       "         'soc.religion.christian': 398,\n",
       "         'comp.windows.x': 395,\n",
       "         'rec.autos': 396})"
      ]
     },
     "execution_count": 23,
     "metadata": {},
     "output_type": "execute_result"
    }
   ],
   "source": [
    "# The classes are almost balanced\n",
    "Counter(y)"
   ]
  },
  {
   "cell_type": "code",
   "execution_count": 24,
   "metadata": {},
   "outputs": [],
   "source": [
    "X_train, X_test, y_train, y_test = train_test_split(x, y, test_size=0.2, stratify=y, random_state=42)"
   ]
  },
  {
   "cell_type": "code",
   "execution_count": 28,
   "metadata": {},
   "outputs": [],
   "source": [
    "from sklearn.feature_extraction.text import CountVectorizer\n",
    "import pandas as pd\n",
    "\n",
    "# Build BOW for training and testing data\n",
    "vectorizer = CountVectorizer(stop_words='english')\n",
    "vectorizer.fit(X_train)\n",
    "X_train_v = vectorizer.transform(X_train)\n",
    "X_test_v = vectorizer.transform(X_test)"
   ]
  },
  {
   "cell_type": "code",
   "execution_count": 33,
   "metadata": {},
   "outputs": [],
   "source": [
    "# features = vectorizer.get_feature_names()\n",
    "# pd.DataFrame(X_train_v.todense(), columns=features, index=X_train)"
   ]
  },
  {
   "cell_type": "code",
   "execution_count": 34,
   "metadata": {},
   "outputs": [
    {
     "data": {
      "text/plain": [
       "[144, 101, 35, 54]"
      ]
     },
     "execution_count": 34,
     "metadata": {},
     "output_type": "execute_result"
    }
   ],
   "source": [
    "# Get k random samples from the test data\n",
    "random.choices(range(0, len(X_test)), k=4)"
   ]
  },
  {
   "cell_type": "code",
   "execution_count": 35,
   "metadata": {},
   "outputs": [
    {
     "data": {
      "text/plain": [
       "'Edgar Pearlstein asks (Fri 7 May 1993) whether the Supreme Court, or\\nany other government authority, has attempted a legal definition of\\nreligion.\\n\\nThe Universal Military Training and Service Act of 1958 exempted\\nfrom the draft those whose \"religious training and belief\" was\\nopposed to participation in war in any form. It defined \"R T & B\" as\\n\"an individual\\'s belief in a relation to a Supreme Being involving\\nduties superior to those arising from any human relation, but [not\\nincluding] essentially political, sociological, or philosophical\\nviews or a merely personal moral code.\"\\n\\nIn the 1965 case of UNITED STATES V. SEEGER, the Supreme Court\\nbroadened the definition so as not to restrict it to explicit\\n\\n   We have concluded that Congress, in using the expression \"Supreme\\n   Being\" rather than the designation \"God,\" .... the test of belief\\n   \"in a relation to a Superme Being\" is whether a given belief that\\n   is sincere and meaningful occupies a place in the life of its\\n   possessor parallel to that filled by the orthodox belief in God\\n   of one who clearly qualifies for the exemption. Where such\\n   beliefs have parallel positions in the lives of their respective\\n   holders we cannot say that one is \"in a relation to a Supreme\\n   Being\" and the other is not....\"\\n\\nMy immediate reference is THE FIRST FREEDOM, by Nat Hentoff,\\n(Delacorte 1980, Dell 1981).'"
      ]
     },
     "execution_count": 35,
     "metadata": {},
     "output_type": "execute_result"
    }
   ],
   "source": [
    "# This is how the news look like\n",
    "X_test[144]"
   ]
  },
  {
   "cell_type": "code",
   "execution_count": 60,
   "metadata": {},
   "outputs": [
    {
     "name": "stdout",
     "output_type": "stream",
     "text": [
      "\n",
      "\n",
      "True label \u001b[32mcomp.windows.x\u001b[0m\n",
      "\u001b[32mcomp.windows.x\u001b[0m \u001b[33m0.2148861237401014\u001b[0m\n",
      "\u001b[32mcomp.windows.x\u001b[0m \u001b[33m0.16763962686813377\u001b[0m\n",
      "\u001b[32mcomp.windows.x\u001b[0m \u001b[33m0.16603891804563295\u001b[0m\n",
      "\n",
      "\n",
      "True label \u001b[32msoc.religion.christian\u001b[0m\n",
      "\u001b[32msoc.religion.christian\u001b[0m \u001b[33m0.30019045264005884\u001b[0m\n",
      "\u001b[32msoc.religion.christian\u001b[0m \u001b[33m0.25630195217885227\u001b[0m\n",
      "\u001b[32msoc.religion.christian\u001b[0m \u001b[33m0.244024265507629\u001b[0m\n",
      "\n",
      "\n",
      "True label \u001b[32mcomp.windows.x\u001b[0m\n",
      "\u001b[31mrec.autos\u001b[0m \u001b[33m0.2760262237369417\u001b[0m\n",
      "\u001b[32mcomp.windows.x\u001b[0m \u001b[33m0.22281245492773064\u001b[0m\n",
      "\u001b[32mcomp.windows.x\u001b[0m \u001b[33m0.21583292365085785\u001b[0m\n",
      "\n",
      "\n",
      "True label \u001b[32mrec.autos\u001b[0m\n",
      "\u001b[32mrec.autos\u001b[0m \u001b[33m0.3332493808491071\u001b[0m\n",
      "\u001b[32mrec.autos\u001b[0m \u001b[33m0.30011117287763484\u001b[0m\n",
      "\u001b[32mrec.autos\u001b[0m \u001b[33m0.299707459706142\u001b[0m\n",
      "\n",
      "\n",
      "True label \u001b[32mrec.sport.baseball\u001b[0m\n",
      "\u001b[31msoc.religion.christian\u001b[0m \u001b[33m0.0\u001b[0m\n",
      "\u001b[31mrec.autos\u001b[0m \u001b[33m0.0\u001b[0m\n",
      "\u001b[31msoc.religion.christian\u001b[0m \u001b[33m0.0\u001b[0m\n"
     ]
    }
   ],
   "source": [
    "for k in random.choices(range(0, len(X_test)), k=5):\n",
    "    print('\\n')\n",
    "    print('True label', colored(y_test[k], 'green'))\n",
    "    similarities = cosine_similarity(X_test_v[k], X_train_v).flatten()\n",
    "    similarities_indices = np.argsort(similarities)[::-1]\n",
    "    \n",
    "    for _, i in enumerate(similarities_indices[:3]):\n",
    "        print(colored(y_train[i] ,'green' if y_test[k] == y_train[i] else 'red'), colored(similarities[i], 'yellow'))"
   ]
  }
 ],
 "metadata": {
  "kernelspec": {
   "display_name": "Python 3",
   "language": "python",
   "name": "python3"
  },
  "language_info": {
   "codemirror_mode": {
    "name": "ipython",
    "version": 3
   },
   "file_extension": ".py",
   "mimetype": "text/x-python",
   "name": "python",
   "nbconvert_exporter": "python",
   "pygments_lexer": "ipython3",
   "version": "3.8.5"
  }
 },
 "nbformat": 4,
 "nbformat_minor": 4
}
