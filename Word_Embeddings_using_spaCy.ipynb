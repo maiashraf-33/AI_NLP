{
  "nbformat": 4,
  "nbformat_minor": 0,
  "metadata": {
    "colab": {
      "name": "Word Embeddings using spaCy.ipynb",
      "provenance": [],
      "collapsed_sections": []
    },
    "kernelspec": {
      "name": "python3",
      "display_name": "Python 3"
    },
    "language_info": {
      "name": "python"
    },
    "widgets": {
      "application/vnd.jupyter.widget-state+json": {
        "e40e87319a4f4987b764753b55a13d15": {
          "model_module": "@jupyter-widgets/controls",
          "model_name": "HBoxModel",
          "model_module_version": "1.5.0",
          "state": {
            "_view_name": "HBoxView",
            "_dom_classes": [],
            "_model_name": "HBoxModel",
            "_view_module": "@jupyter-widgets/controls",
            "_model_module_version": "1.5.0",
            "_view_count": null,
            "_view_module_version": "1.5.0",
            "box_style": "",
            "layout": "IPY_MODEL_8fe1d7581cec42ab8db5fa012df6ba0e",
            "_model_module": "@jupyter-widgets/controls",
            "children": [
              "IPY_MODEL_50e412f196ad47469a16d5a05c3bcf71",
              "IPY_MODEL_2ea8bee923434848a2652a3f42b97645",
              "IPY_MODEL_075ec605c41f46099ebfd911072be52c"
            ]
          }
        },
        "8fe1d7581cec42ab8db5fa012df6ba0e": {
          "model_module": "@jupyter-widgets/base",
          "model_name": "LayoutModel",
          "model_module_version": "1.2.0",
          "state": {
            "_view_name": "LayoutView",
            "grid_template_rows": null,
            "right": null,
            "justify_content": null,
            "_view_module": "@jupyter-widgets/base",
            "overflow": null,
            "_model_module_version": "1.2.0",
            "_view_count": null,
            "flex_flow": null,
            "width": null,
            "min_width": null,
            "border": null,
            "align_items": null,
            "bottom": null,
            "_model_module": "@jupyter-widgets/base",
            "top": null,
            "grid_column": null,
            "overflow_y": null,
            "overflow_x": null,
            "grid_auto_flow": null,
            "grid_area": null,
            "grid_template_columns": null,
            "flex": null,
            "_model_name": "LayoutModel",
            "justify_items": null,
            "grid_row": null,
            "max_height": null,
            "align_content": null,
            "visibility": null,
            "align_self": null,
            "height": null,
            "min_height": null,
            "padding": null,
            "grid_auto_rows": null,
            "grid_gap": null,
            "max_width": null,
            "order": null,
            "_view_module_version": "1.2.0",
            "grid_template_areas": null,
            "object_position": null,
            "object_fit": null,
            "grid_auto_columns": null,
            "margin": null,
            "display": null,
            "left": null
          }
        },
        "50e412f196ad47469a16d5a05c3bcf71": {
          "model_module": "@jupyter-widgets/controls",
          "model_name": "HTMLModel",
          "model_module_version": "1.5.0",
          "state": {
            "_view_name": "HTMLView",
            "style": "IPY_MODEL_a8aab6acbe244e68be4dc1949d1b67a2",
            "_dom_classes": [],
            "description": "",
            "_model_name": "HTMLModel",
            "placeholder": "​",
            "_view_module": "@jupyter-widgets/controls",
            "_model_module_version": "1.5.0",
            "value": "100%",
            "_view_count": null,
            "_view_module_version": "1.5.0",
            "description_tooltip": null,
            "_model_module": "@jupyter-widgets/controls",
            "layout": "IPY_MODEL_d6909a2e4e0a43208041c8cf235612ad"
          }
        },
        "2ea8bee923434848a2652a3f42b97645": {
          "model_module": "@jupyter-widgets/controls",
          "model_name": "FloatProgressModel",
          "model_module_version": "1.5.0",
          "state": {
            "_view_name": "ProgressView",
            "style": "IPY_MODEL_5ab2bd61bb654f3ab9ddbdf7af59a4e3",
            "_dom_classes": [],
            "description": "",
            "_model_name": "FloatProgressModel",
            "bar_style": "success",
            "max": 1663,
            "_view_module": "@jupyter-widgets/controls",
            "_model_module_version": "1.5.0",
            "value": 1663,
            "_view_count": null,
            "_view_module_version": "1.5.0",
            "orientation": "horizontal",
            "min": 0,
            "description_tooltip": null,
            "_model_module": "@jupyter-widgets/controls",
            "layout": "IPY_MODEL_ed88aff2d6044f9db9e766cfbf0e3054"
          }
        },
        "075ec605c41f46099ebfd911072be52c": {
          "model_module": "@jupyter-widgets/controls",
          "model_name": "HTMLModel",
          "model_module_version": "1.5.0",
          "state": {
            "_view_name": "HTMLView",
            "style": "IPY_MODEL_b3eea0df70ea491ab7c6dabe651ca5a6",
            "_dom_classes": [],
            "description": "",
            "_model_name": "HTMLModel",
            "placeholder": "​",
            "_view_module": "@jupyter-widgets/controls",
            "_model_module_version": "1.5.0",
            "value": " 1663/1663 [01:01&lt;00:00, 20.06it/s]",
            "_view_count": null,
            "_view_module_version": "1.5.0",
            "description_tooltip": null,
            "_model_module": "@jupyter-widgets/controls",
            "layout": "IPY_MODEL_f4d8c07eed784227b0cce3bc2a074c4c"
          }
        },
        "a8aab6acbe244e68be4dc1949d1b67a2": {
          "model_module": "@jupyter-widgets/controls",
          "model_name": "DescriptionStyleModel",
          "model_module_version": "1.5.0",
          "state": {
            "_view_name": "StyleView",
            "_model_name": "DescriptionStyleModel",
            "description_width": "",
            "_view_module": "@jupyter-widgets/base",
            "_model_module_version": "1.5.0",
            "_view_count": null,
            "_view_module_version": "1.2.0",
            "_model_module": "@jupyter-widgets/controls"
          }
        },
        "d6909a2e4e0a43208041c8cf235612ad": {
          "model_module": "@jupyter-widgets/base",
          "model_name": "LayoutModel",
          "model_module_version": "1.2.0",
          "state": {
            "_view_name": "LayoutView",
            "grid_template_rows": null,
            "right": null,
            "justify_content": null,
            "_view_module": "@jupyter-widgets/base",
            "overflow": null,
            "_model_module_version": "1.2.0",
            "_view_count": null,
            "flex_flow": null,
            "width": null,
            "min_width": null,
            "border": null,
            "align_items": null,
            "bottom": null,
            "_model_module": "@jupyter-widgets/base",
            "top": null,
            "grid_column": null,
            "overflow_y": null,
            "overflow_x": null,
            "grid_auto_flow": null,
            "grid_area": null,
            "grid_template_columns": null,
            "flex": null,
            "_model_name": "LayoutModel",
            "justify_items": null,
            "grid_row": null,
            "max_height": null,
            "align_content": null,
            "visibility": null,
            "align_self": null,
            "height": null,
            "min_height": null,
            "padding": null,
            "grid_auto_rows": null,
            "grid_gap": null,
            "max_width": null,
            "order": null,
            "_view_module_version": "1.2.0",
            "grid_template_areas": null,
            "object_position": null,
            "object_fit": null,
            "grid_auto_columns": null,
            "margin": null,
            "display": null,
            "left": null
          }
        },
        "5ab2bd61bb654f3ab9ddbdf7af59a4e3": {
          "model_module": "@jupyter-widgets/controls",
          "model_name": "ProgressStyleModel",
          "model_module_version": "1.5.0",
          "state": {
            "_view_name": "StyleView",
            "_model_name": "ProgressStyleModel",
            "description_width": "",
            "_view_module": "@jupyter-widgets/base",
            "_model_module_version": "1.5.0",
            "_view_count": null,
            "_view_module_version": "1.2.0",
            "bar_color": null,
            "_model_module": "@jupyter-widgets/controls"
          }
        },
        "ed88aff2d6044f9db9e766cfbf0e3054": {
          "model_module": "@jupyter-widgets/base",
          "model_name": "LayoutModel",
          "model_module_version": "1.2.0",
          "state": {
            "_view_name": "LayoutView",
            "grid_template_rows": null,
            "right": null,
            "justify_content": null,
            "_view_module": "@jupyter-widgets/base",
            "overflow": null,
            "_model_module_version": "1.2.0",
            "_view_count": null,
            "flex_flow": null,
            "width": null,
            "min_width": null,
            "border": null,
            "align_items": null,
            "bottom": null,
            "_model_module": "@jupyter-widgets/base",
            "top": null,
            "grid_column": null,
            "overflow_y": null,
            "overflow_x": null,
            "grid_auto_flow": null,
            "grid_area": null,
            "grid_template_columns": null,
            "flex": null,
            "_model_name": "LayoutModel",
            "justify_items": null,
            "grid_row": null,
            "max_height": null,
            "align_content": null,
            "visibility": null,
            "align_self": null,
            "height": null,
            "min_height": null,
            "padding": null,
            "grid_auto_rows": null,
            "grid_gap": null,
            "max_width": null,
            "order": null,
            "_view_module_version": "1.2.0",
            "grid_template_areas": null,
            "object_position": null,
            "object_fit": null,
            "grid_auto_columns": null,
            "margin": null,
            "display": null,
            "left": null
          }
        },
        "b3eea0df70ea491ab7c6dabe651ca5a6": {
          "model_module": "@jupyter-widgets/controls",
          "model_name": "DescriptionStyleModel",
          "model_module_version": "1.5.0",
          "state": {
            "_view_name": "StyleView",
            "_model_name": "DescriptionStyleModel",
            "description_width": "",
            "_view_module": "@jupyter-widgets/base",
            "_model_module_version": "1.5.0",
            "_view_count": null,
            "_view_module_version": "1.2.0",
            "_model_module": "@jupyter-widgets/controls"
          }
        },
        "f4d8c07eed784227b0cce3bc2a074c4c": {
          "model_module": "@jupyter-widgets/base",
          "model_name": "LayoutModel",
          "model_module_version": "1.2.0",
          "state": {
            "_view_name": "LayoutView",
            "grid_template_rows": null,
            "right": null,
            "justify_content": null,
            "_view_module": "@jupyter-widgets/base",
            "overflow": null,
            "_model_module_version": "1.2.0",
            "_view_count": null,
            "flex_flow": null,
            "width": null,
            "min_width": null,
            "border": null,
            "align_items": null,
            "bottom": null,
            "_model_module": "@jupyter-widgets/base",
            "top": null,
            "grid_column": null,
            "overflow_y": null,
            "overflow_x": null,
            "grid_auto_flow": null,
            "grid_area": null,
            "grid_template_columns": null,
            "flex": null,
            "_model_name": "LayoutModel",
            "justify_items": null,
            "grid_row": null,
            "max_height": null,
            "align_content": null,
            "visibility": null,
            "align_self": null,
            "height": null,
            "min_height": null,
            "padding": null,
            "grid_auto_rows": null,
            "grid_gap": null,
            "max_width": null,
            "order": null,
            "_view_module_version": "1.2.0",
            "grid_template_areas": null,
            "object_position": null,
            "object_fit": null,
            "grid_auto_columns": null,
            "margin": null,
            "display": null,
            "left": null
          }
        },
        "c5a518ffefa14edeb252bfb92faee8aa": {
          "model_module": "@jupyter-widgets/controls",
          "model_name": "HBoxModel",
          "model_module_version": "1.5.0",
          "state": {
            "_view_name": "HBoxView",
            "_dom_classes": [],
            "_model_name": "HBoxModel",
            "_view_module": "@jupyter-widgets/controls",
            "_model_module_version": "1.5.0",
            "_view_count": null,
            "_view_module_version": "1.5.0",
            "box_style": "",
            "layout": "IPY_MODEL_cbad8c32edd643a2b9f796c503102e3e",
            "_model_module": "@jupyter-widgets/controls",
            "children": [
              "IPY_MODEL_dc2898fbbfe54ded849ea048d7838390",
              "IPY_MODEL_1e7c5f95821e4e28af77ee1e24aa91ab",
              "IPY_MODEL_29d07804bc1a4ef8a7438595165c4117"
            ]
          }
        },
        "cbad8c32edd643a2b9f796c503102e3e": {
          "model_module": "@jupyter-widgets/base",
          "model_name": "LayoutModel",
          "model_module_version": "1.2.0",
          "state": {
            "_view_name": "LayoutView",
            "grid_template_rows": null,
            "right": null,
            "justify_content": null,
            "_view_module": "@jupyter-widgets/base",
            "overflow": null,
            "_model_module_version": "1.2.0",
            "_view_count": null,
            "flex_flow": null,
            "width": null,
            "min_width": null,
            "border": null,
            "align_items": null,
            "bottom": null,
            "_model_module": "@jupyter-widgets/base",
            "top": null,
            "grid_column": null,
            "overflow_y": null,
            "overflow_x": null,
            "grid_auto_flow": null,
            "grid_area": null,
            "grid_template_columns": null,
            "flex": null,
            "_model_name": "LayoutModel",
            "justify_items": null,
            "grid_row": null,
            "max_height": null,
            "align_content": null,
            "visibility": null,
            "align_self": null,
            "height": null,
            "min_height": null,
            "padding": null,
            "grid_auto_rows": null,
            "grid_gap": null,
            "max_width": null,
            "order": null,
            "_view_module_version": "1.2.0",
            "grid_template_areas": null,
            "object_position": null,
            "object_fit": null,
            "grid_auto_columns": null,
            "margin": null,
            "display": null,
            "left": null
          }
        },
        "dc2898fbbfe54ded849ea048d7838390": {
          "model_module": "@jupyter-widgets/controls",
          "model_name": "HTMLModel",
          "model_module_version": "1.5.0",
          "state": {
            "_view_name": "HTMLView",
            "style": "IPY_MODEL_f7256dbef7b44d3ab3864e8cec3ed05d",
            "_dom_classes": [],
            "description": "",
            "_model_name": "HTMLModel",
            "placeholder": "​",
            "_view_module": "@jupyter-widgets/controls",
            "_model_module_version": "1.5.0",
            "value": "100%",
            "_view_count": null,
            "_view_module_version": "1.5.0",
            "description_tooltip": null,
            "_model_module": "@jupyter-widgets/controls",
            "layout": "IPY_MODEL_08e370b7f51b408c96f765a8b69cec25"
          }
        },
        "1e7c5f95821e4e28af77ee1e24aa91ab": {
          "model_module": "@jupyter-widgets/controls",
          "model_name": "FloatProgressModel",
          "model_module_version": "1.5.0",
          "state": {
            "_view_name": "ProgressView",
            "style": "IPY_MODEL_a0837980f3404a28a7084691491d0ea6",
            "_dom_classes": [],
            "description": "",
            "_model_name": "FloatProgressModel",
            "bar_style": "success",
            "max": 1106,
            "_view_module": "@jupyter-widgets/controls",
            "_model_module_version": "1.5.0",
            "value": 1106,
            "_view_count": null,
            "_view_module_version": "1.5.0",
            "orientation": "horizontal",
            "min": 0,
            "description_tooltip": null,
            "_model_module": "@jupyter-widgets/controls",
            "layout": "IPY_MODEL_1643c9d85b01402e9dd2e65a2feb9e8a"
          }
        },
        "29d07804bc1a4ef8a7438595165c4117": {
          "model_module": "@jupyter-widgets/controls",
          "model_name": "HTMLModel",
          "model_module_version": "1.5.0",
          "state": {
            "_view_name": "HTMLView",
            "style": "IPY_MODEL_77045572036c48458b9912492ebbefaa",
            "_dom_classes": [],
            "description": "",
            "_model_name": "HTMLModel",
            "placeholder": "​",
            "_view_module": "@jupyter-widgets/controls",
            "_model_module_version": "1.5.0",
            "value": " 1106/1106 [00:45&lt;00:00, 30.00it/s]",
            "_view_count": null,
            "_view_module_version": "1.5.0",
            "description_tooltip": null,
            "_model_module": "@jupyter-widgets/controls",
            "layout": "IPY_MODEL_32305d9883144ec4987b1d84361d5d41"
          }
        },
        "f7256dbef7b44d3ab3864e8cec3ed05d": {
          "model_module": "@jupyter-widgets/controls",
          "model_name": "DescriptionStyleModel",
          "model_module_version": "1.5.0",
          "state": {
            "_view_name": "StyleView",
            "_model_name": "DescriptionStyleModel",
            "description_width": "",
            "_view_module": "@jupyter-widgets/base",
            "_model_module_version": "1.5.0",
            "_view_count": null,
            "_view_module_version": "1.2.0",
            "_model_module": "@jupyter-widgets/controls"
          }
        },
        "08e370b7f51b408c96f765a8b69cec25": {
          "model_module": "@jupyter-widgets/base",
          "model_name": "LayoutModel",
          "model_module_version": "1.2.0",
          "state": {
            "_view_name": "LayoutView",
            "grid_template_rows": null,
            "right": null,
            "justify_content": null,
            "_view_module": "@jupyter-widgets/base",
            "overflow": null,
            "_model_module_version": "1.2.0",
            "_view_count": null,
            "flex_flow": null,
            "width": null,
            "min_width": null,
            "border": null,
            "align_items": null,
            "bottom": null,
            "_model_module": "@jupyter-widgets/base",
            "top": null,
            "grid_column": null,
            "overflow_y": null,
            "overflow_x": null,
            "grid_auto_flow": null,
            "grid_area": null,
            "grid_template_columns": null,
            "flex": null,
            "_model_name": "LayoutModel",
            "justify_items": null,
            "grid_row": null,
            "max_height": null,
            "align_content": null,
            "visibility": null,
            "align_self": null,
            "height": null,
            "min_height": null,
            "padding": null,
            "grid_auto_rows": null,
            "grid_gap": null,
            "max_width": null,
            "order": null,
            "_view_module_version": "1.2.0",
            "grid_template_areas": null,
            "object_position": null,
            "object_fit": null,
            "grid_auto_columns": null,
            "margin": null,
            "display": null,
            "left": null
          }
        },
        "a0837980f3404a28a7084691491d0ea6": {
          "model_module": "@jupyter-widgets/controls",
          "model_name": "ProgressStyleModel",
          "model_module_version": "1.5.0",
          "state": {
            "_view_name": "StyleView",
            "_model_name": "ProgressStyleModel",
            "description_width": "",
            "_view_module": "@jupyter-widgets/base",
            "_model_module_version": "1.5.0",
            "_view_count": null,
            "_view_module_version": "1.2.0",
            "bar_color": null,
            "_model_module": "@jupyter-widgets/controls"
          }
        },
        "1643c9d85b01402e9dd2e65a2feb9e8a": {
          "model_module": "@jupyter-widgets/base",
          "model_name": "LayoutModel",
          "model_module_version": "1.2.0",
          "state": {
            "_view_name": "LayoutView",
            "grid_template_rows": null,
            "right": null,
            "justify_content": null,
            "_view_module": "@jupyter-widgets/base",
            "overflow": null,
            "_model_module_version": "1.2.0",
            "_view_count": null,
            "flex_flow": null,
            "width": null,
            "min_width": null,
            "border": null,
            "align_items": null,
            "bottom": null,
            "_model_module": "@jupyter-widgets/base",
            "top": null,
            "grid_column": null,
            "overflow_y": null,
            "overflow_x": null,
            "grid_auto_flow": null,
            "grid_area": null,
            "grid_template_columns": null,
            "flex": null,
            "_model_name": "LayoutModel",
            "justify_items": null,
            "grid_row": null,
            "max_height": null,
            "align_content": null,
            "visibility": null,
            "align_self": null,
            "height": null,
            "min_height": null,
            "padding": null,
            "grid_auto_rows": null,
            "grid_gap": null,
            "max_width": null,
            "order": null,
            "_view_module_version": "1.2.0",
            "grid_template_areas": null,
            "object_position": null,
            "object_fit": null,
            "grid_auto_columns": null,
            "margin": null,
            "display": null,
            "left": null
          }
        },
        "77045572036c48458b9912492ebbefaa": {
          "model_module": "@jupyter-widgets/controls",
          "model_name": "DescriptionStyleModel",
          "model_module_version": "1.5.0",
          "state": {
            "_view_name": "StyleView",
            "_model_name": "DescriptionStyleModel",
            "description_width": "",
            "_view_module": "@jupyter-widgets/base",
            "_model_module_version": "1.5.0",
            "_view_count": null,
            "_view_module_version": "1.2.0",
            "_model_module": "@jupyter-widgets/controls"
          }
        },
        "32305d9883144ec4987b1d84361d5d41": {
          "model_module": "@jupyter-widgets/base",
          "model_name": "LayoutModel",
          "model_module_version": "1.2.0",
          "state": {
            "_view_name": "LayoutView",
            "grid_template_rows": null,
            "right": null,
            "justify_content": null,
            "_view_module": "@jupyter-widgets/base",
            "overflow": null,
            "_model_module_version": "1.2.0",
            "_view_count": null,
            "flex_flow": null,
            "width": null,
            "min_width": null,
            "border": null,
            "align_items": null,
            "bottom": null,
            "_model_module": "@jupyter-widgets/base",
            "top": null,
            "grid_column": null,
            "overflow_y": null,
            "overflow_x": null,
            "grid_auto_flow": null,
            "grid_area": null,
            "grid_template_columns": null,
            "flex": null,
            "_model_name": "LayoutModel",
            "justify_items": null,
            "grid_row": null,
            "max_height": null,
            "align_content": null,
            "visibility": null,
            "align_self": null,
            "height": null,
            "min_height": null,
            "padding": null,
            "grid_auto_rows": null,
            "grid_gap": null,
            "max_width": null,
            "order": null,
            "_view_module_version": "1.2.0",
            "grid_template_areas": null,
            "object_position": null,
            "object_fit": null,
            "grid_auto_columns": null,
            "margin": null,
            "display": null,
            "left": null
          }
        }
      }
    }
  },
  "cells": [
    {
      "cell_type": "code",
      "metadata": {
        "id": "nRzsnuNohULw"
      },
      "source": [
        "import spacy\n",
        "import pandas as pd\n",
        "import seaborn as sns\n",
        "from sklearn.metrics.pairwise import cosine_distances, cosine_similarity"
      ],
      "execution_count": 1,
      "outputs": []
    },
    {
      "cell_type": "code",
      "metadata": {
        "id": "JVerwcJghXmF"
      },
      "source": [
        "# Load the Pre-Trained model\n",
        "nlp = spacy.load('en_core_web_sm')\n",
        "\n",
        "# Make a sequential palette that blends from light to color\n",
        "cm = sns.light_palette('#2ecc71', as_cmap=True)"
      ],
      "execution_count": 2,
      "outputs": []
    },
    {
      "cell_type": "code",
      "metadata": {
        "colab": {
          "base_uri": "https://localhost:8080/",
          "height": 206
        },
        "id": "eBFBcOAvhZTP",
        "outputId": "a436da84-de96-44e8-fcf5-70a438378de6"
      },
      "source": [
        "words = ['cat', 'dog', 'car', 'bird', 'eagle']\n",
        "# Transform each word to a vector\n",
        "vectors =  [nlp(word).vector for word in words]\n",
        "# find similarities across all words\n",
        "similarities = cosine_similarity(vectors, vectors)\n",
        "pd.DataFrame(similarities, columns=words, index=words).style.background_gradient(cmap=cm)"
      ],
      "execution_count": 3,
      "outputs": [
        {
          "output_type": "execute_result",
          "data": {
            "text/html": [
              "<style  type=\"text/css\" >\n",
              "#T_ea968efc_470e_11ec_8a00_0242ac1c0002row0_col0,#T_ea968efc_470e_11ec_8a00_0242ac1c0002row1_col1,#T_ea968efc_470e_11ec_8a00_0242ac1c0002row2_col2,#T_ea968efc_470e_11ec_8a00_0242ac1c0002row3_col3,#T_ea968efc_470e_11ec_8a00_0242ac1c0002row4_col4{\n",
              "            background-color:  #2ecc71;\n",
              "            color:  #000000;\n",
              "        }#T_ea968efc_470e_11ec_8a00_0242ac1c0002row0_col1{\n",
              "            background-color:  #b2e7c8;\n",
              "            color:  #000000;\n",
              "        }#T_ea968efc_470e_11ec_8a00_0242ac1c0002row0_col2{\n",
              "            background-color:  #ace6c3;\n",
              "            color:  #000000;\n",
              "        }#T_ea968efc_470e_11ec_8a00_0242ac1c0002row0_col3,#T_ea968efc_470e_11ec_8a00_0242ac1c0002row2_col0{\n",
              "            background-color:  #d5eede;\n",
              "            color:  #000000;\n",
              "        }#T_ea968efc_470e_11ec_8a00_0242ac1c0002row0_col4{\n",
              "            background-color:  #96e1b5;\n",
              "            color:  #000000;\n",
              "        }#T_ea968efc_470e_11ec_8a00_0242ac1c0002row1_col0{\n",
              "            background-color:  #c3ebd3;\n",
              "            color:  #000000;\n",
              "        }#T_ea968efc_470e_11ec_8a00_0242ac1c0002row1_col2{\n",
              "            background-color:  #bde9cf;\n",
              "            color:  #000000;\n",
              "        }#T_ea968efc_470e_11ec_8a00_0242ac1c0002row1_col3,#T_ea968efc_470e_11ec_8a00_0242ac1c0002row2_col4,#T_ea968efc_470e_11ec_8a00_0242ac1c0002row3_col0,#T_ea968efc_470e_11ec_8a00_0242ac1c0002row3_col1,#T_ea968efc_470e_11ec_8a00_0242ac1c0002row4_col2{\n",
              "            background-color:  #ebf3ec;\n",
              "            color:  #000000;\n",
              "        }#T_ea968efc_470e_11ec_8a00_0242ac1c0002row1_col4{\n",
              "            background-color:  #b5e8c9;\n",
              "            color:  #000000;\n",
              "        }#T_ea968efc_470e_11ec_8a00_0242ac1c0002row2_col1{\n",
              "            background-color:  #d7efe0;\n",
              "            color:  #000000;\n",
              "        }#T_ea968efc_470e_11ec_8a00_0242ac1c0002row2_col3{\n",
              "            background-color:  #9ee3bb;\n",
              "            color:  #000000;\n",
              "        }#T_ea968efc_470e_11ec_8a00_0242ac1c0002row3_col2{\n",
              "            background-color:  #8de0af;\n",
              "            color:  #000000;\n",
              "        }#T_ea968efc_470e_11ec_8a00_0242ac1c0002row3_col4{\n",
              "            background-color:  #ccedd9;\n",
              "            color:  #000000;\n",
              "        }#T_ea968efc_470e_11ec_8a00_0242ac1c0002row4_col0{\n",
              "            background-color:  #bae9cd;\n",
              "            color:  #000000;\n",
              "        }#T_ea968efc_470e_11ec_8a00_0242ac1c0002row4_col1{\n",
              "            background-color:  #cdedd9;\n",
              "            color:  #000000;\n",
              "        }#T_ea968efc_470e_11ec_8a00_0242ac1c0002row4_col3{\n",
              "            background-color:  #e8f2eb;\n",
              "            color:  #000000;\n",
              "        }</style><table id=\"T_ea968efc_470e_11ec_8a00_0242ac1c0002\" class=\"dataframe\"><thead>    <tr>        <th class=\"blank level0\" ></th>        <th class=\"col_heading level0 col0\" >cat</th>        <th class=\"col_heading level0 col1\" >dog</th>        <th class=\"col_heading level0 col2\" >car</th>        <th class=\"col_heading level0 col3\" >bird</th>        <th class=\"col_heading level0 col4\" >eagle</th>    </tr></thead><tbody>\n",
              "                <tr>\n",
              "                        <th id=\"T_ea968efc_470e_11ec_8a00_0242ac1c0002level0_row0\" class=\"row_heading level0 row0\" >cat</th>\n",
              "                        <td id=\"T_ea968efc_470e_11ec_8a00_0242ac1c0002row0_col0\" class=\"data row0 col0\" >1.000000</td>\n",
              "                        <td id=\"T_ea968efc_470e_11ec_8a00_0242ac1c0002row0_col1\" class=\"data row0 col1\" >0.654956</td>\n",
              "                        <td id=\"T_ea968efc_470e_11ec_8a00_0242ac1c0002row0_col2\" class=\"data row0 col2\" >0.614196</td>\n",
              "                        <td id=\"T_ea968efc_470e_11ec_8a00_0242ac1c0002row0_col3\" class=\"data row0 col3\" >0.564566</td>\n",
              "                        <td id=\"T_ea968efc_470e_11ec_8a00_0242ac1c0002row0_col4\" class=\"data row0 col4\" >0.678033</td>\n",
              "            </tr>\n",
              "            <tr>\n",
              "                        <th id=\"T_ea968efc_470e_11ec_8a00_0242ac1c0002level0_row1\" class=\"row_heading level0 row1\" >dog</th>\n",
              "                        <td id=\"T_ea968efc_470e_11ec_8a00_0242ac1c0002row1_col0\" class=\"data row1 col0\" >0.654956</td>\n",
              "                        <td id=\"T_ea968efc_470e_11ec_8a00_0242ac1c0002row1_col1\" class=\"data row1 col1\" >1.000000</td>\n",
              "                        <td id=\"T_ea968efc_470e_11ec_8a00_0242ac1c0002row1_col2\" class=\"data row1 col2\" >0.559020</td>\n",
              "                        <td id=\"T_ea968efc_470e_11ec_8a00_0242ac1c0002row1_col3\" class=\"data row1 col3\" >0.507874</td>\n",
              "                        <td id=\"T_ea968efc_470e_11ec_8a00_0242ac1c0002row1_col4\" class=\"data row1 col4\" >0.585649</td>\n",
              "            </tr>\n",
              "            <tr>\n",
              "                        <th id=\"T_ea968efc_470e_11ec_8a00_0242ac1c0002level0_row2\" class=\"row_heading level0 row2\" >car</th>\n",
              "                        <td id=\"T_ea968efc_470e_11ec_8a00_0242ac1c0002row2_col0\" class=\"data row2 col0\" >0.614196</td>\n",
              "                        <td id=\"T_ea968efc_470e_11ec_8a00_0242ac1c0002row2_col1\" class=\"data row2 col1\" >0.559020</td>\n",
              "                        <td id=\"T_ea968efc_470e_11ec_8a00_0242ac1c0002row2_col2\" class=\"data row2 col2\" >1.000000</td>\n",
              "                        <td id=\"T_ea968efc_470e_11ec_8a00_0242ac1c0002row2_col3\" class=\"data row2 col3\" >0.706714</td>\n",
              "                        <td id=\"T_ea968efc_470e_11ec_8a00_0242ac1c0002row2_col4\" class=\"data row2 col4\" >0.419438</td>\n",
              "            </tr>\n",
              "            <tr>\n",
              "                        <th id=\"T_ea968efc_470e_11ec_8a00_0242ac1c0002level0_row3\" class=\"row_heading level0 row3\" >bird</th>\n",
              "                        <td id=\"T_ea968efc_470e_11ec_8a00_0242ac1c0002row3_col0\" class=\"data row3 col0\" >0.564566</td>\n",
              "                        <td id=\"T_ea968efc_470e_11ec_8a00_0242ac1c0002row3_col1\" class=\"data row3 col1\" >0.507874</td>\n",
              "                        <td id=\"T_ea968efc_470e_11ec_8a00_0242ac1c0002row3_col2\" class=\"data row3 col2\" >0.706714</td>\n",
              "                        <td id=\"T_ea968efc_470e_11ec_8a00_0242ac1c0002row3_col3\" class=\"data row3 col3\" >1.000000</td>\n",
              "                        <td id=\"T_ea968efc_470e_11ec_8a00_0242ac1c0002row3_col4\" class=\"data row3 col4\" >0.514435</td>\n",
              "            </tr>\n",
              "            <tr>\n",
              "                        <th id=\"T_ea968efc_470e_11ec_8a00_0242ac1c0002level0_row4\" class=\"row_heading level0 row4\" >eagle</th>\n",
              "                        <td id=\"T_ea968efc_470e_11ec_8a00_0242ac1c0002row4_col0\" class=\"data row4 col0\" >0.678033</td>\n",
              "                        <td id=\"T_ea968efc_470e_11ec_8a00_0242ac1c0002row4_col1\" class=\"data row4 col1\" >0.585649</td>\n",
              "                        <td id=\"T_ea968efc_470e_11ec_8a00_0242ac1c0002row4_col2\" class=\"data row4 col2\" >0.419438</td>\n",
              "                        <td id=\"T_ea968efc_470e_11ec_8a00_0242ac1c0002row4_col3\" class=\"data row4 col3\" >0.514435</td>\n",
              "                        <td id=\"T_ea968efc_470e_11ec_8a00_0242ac1c0002row4_col4\" class=\"data row4 col4\" >1.000000</td>\n",
              "            </tr>\n",
              "    </tbody></table>"
            ],
            "text/plain": [
              "<pandas.io.formats.style.Styler at 0x7fdcf8e42b50>"
            ]
          },
          "metadata": {},
          "execution_count": 3
        }
      ]
    },
    {
      "cell_type": "code",
      "metadata": {
        "colab": {
          "base_uri": "https://localhost:8080/"
        },
        "id": "t0Svkgi8pb_m",
        "outputId": "8f4dd4ff-1927-4f1f-bd33-8ec3bfb63abb"
      },
      "source": [
        "# Each word is represented as a vector with a length of 96\n",
        "vec = nlp('cat').vector\n",
        "vec.shape"
      ],
      "execution_count": 4,
      "outputs": [
        {
          "output_type": "execute_result",
          "data": {
            "text/plain": [
              "(96,)"
            ]
          },
          "metadata": {},
          "execution_count": 4
        }
      ]
    },
    {
      "cell_type": "markdown",
      "metadata": {
        "id": "mRJ_qVtTpyF4"
      },
      "source": [
        "### Build a classifier for news groups"
      ]
    },
    {
      "cell_type": "code",
      "metadata": {
        "id": "qkJ5zfxysCIS"
      },
      "source": [
        "import numpy as np\n",
        "from tqdm.auto import tqdm\n",
        "from sklearn.datasets import fetch_20newsgroups\n",
        "# from sklearn.linear_model import LogisticRegression\n",
        "from sklearn.svm import LinearSVC\n",
        "from sklearn.metrics import classification_report"
      ],
      "execution_count": 6,
      "outputs": []
    },
    {
      "cell_type": "code",
      "metadata": {
        "id": "E2S8MBK0vYf2"
      },
      "source": [
        "categories = ['alt.atheism', 'soc.religion.christian', 'comp.graphics']"
      ],
      "execution_count": 9,
      "outputs": []
    },
    {
      "cell_type": "code",
      "metadata": {
        "id": "6EXrjpOOvrI_"
      },
      "source": [
        "X_train, y_train = fetch_20newsgroups(categories=categories, remove=('header', 'footers', 'quotes'), return_X_y=True)\n",
        "X_test, y_test = fetch_20newsgroups(categories=categories, remove=('header', 'footers', 'quotes'), return_X_y=True, subset='test')"
      ],
      "execution_count": 10,
      "outputs": []
    },
    {
      "cell_type": "code",
      "metadata": {
        "id": "sj00TYRnws6R"
      },
      "source": [
        "X_train_v = np.zeros((len(X_train), 96))\n",
        "X_test_v = np.zeros((len(X_test), 96))"
      ],
      "execution_count": 11,
      "outputs": []
    },
    {
      "cell_type": "code",
      "metadata": {
        "colab": {
          "base_uri": "https://localhost:8080/",
          "height": 81,
          "referenced_widgets": [
            "e40e87319a4f4987b764753b55a13d15",
            "8fe1d7581cec42ab8db5fa012df6ba0e",
            "50e412f196ad47469a16d5a05c3bcf71",
            "2ea8bee923434848a2652a3f42b97645",
            "075ec605c41f46099ebfd911072be52c",
            "a8aab6acbe244e68be4dc1949d1b67a2",
            "d6909a2e4e0a43208041c8cf235612ad",
            "5ab2bd61bb654f3ab9ddbdf7af59a4e3",
            "ed88aff2d6044f9db9e766cfbf0e3054",
            "b3eea0df70ea491ab7c6dabe651ca5a6",
            "f4d8c07eed784227b0cce3bc2a074c4c",
            "c5a518ffefa14edeb252bfb92faee8aa",
            "cbad8c32edd643a2b9f796c503102e3e",
            "dc2898fbbfe54ded849ea048d7838390",
            "1e7c5f95821e4e28af77ee1e24aa91ab",
            "29d07804bc1a4ef8a7438595165c4117",
            "f7256dbef7b44d3ab3864e8cec3ed05d",
            "08e370b7f51b408c96f765a8b69cec25",
            "a0837980f3404a28a7084691491d0ea6",
            "1643c9d85b01402e9dd2e65a2feb9e8a",
            "77045572036c48458b9912492ebbefaa",
            "32305d9883144ec4987b1d84361d5d41"
          ]
        },
        "id": "Cjwuk7d0xGz1",
        "outputId": "3f2685e6-a508-46ac-82c9-01bd1150514f"
      },
      "source": [
        "# Represent training data as vectors\n",
        "for i, sent in tqdm(enumerate(nlp.pipe(X_train)), total=len(X_train)):\n",
        "  X_train_v[i, :] = sent.vector\n",
        "# REpresenrs testing data as vectors\n",
        "for i, sent in tqdm(enumerate(nlp.pipe(X_test)), total=len(X_test)):\n",
        "  X_test_v[i, :] = sent.vector"
      ],
      "execution_count": 12,
      "outputs": [
        {
          "output_type": "display_data",
          "data": {
            "application/vnd.jupyter.widget-view+json": {
              "model_id": "e40e87319a4f4987b764753b55a13d15",
              "version_minor": 0,
              "version_major": 2
            },
            "text/plain": [
              "  0%|          | 0/1663 [00:00<?, ?it/s]"
            ]
          },
          "metadata": {}
        },
        {
          "output_type": "display_data",
          "data": {
            "application/vnd.jupyter.widget-view+json": {
              "model_id": "c5a518ffefa14edeb252bfb92faee8aa",
              "version_minor": 0,
              "version_major": 2
            },
            "text/plain": [
              "  0%|          | 0/1106 [00:00<?, ?it/s]"
            ]
          },
          "metadata": {}
        }
      ]
    },
    {
      "cell_type": "code",
      "metadata": {
        "id": "Rd3RdkJg30_w",
        "colab": {
          "base_uri": "https://localhost:8080/"
        },
        "outputId": "432cedc8-c7da-403a-bf53-3b239c55e7ea"
      },
      "source": [
        "# Build and train our model\n",
        "clf = LinearSVC()\n",
        "clf.fit(X_train_v, y_train)\n",
        "predictions =  clf.predict(X_test_v)\n",
        "print(classification_report(y_test, predictions, target_names=categories))"
      ],
      "execution_count": 13,
      "outputs": [
        {
          "output_type": "stream",
          "name": "stdout",
          "text": [
            "                        precision    recall  f1-score   support\n",
            "\n",
            "           alt.atheism       0.65      0.46      0.54       319\n",
            "soc.religion.christian       0.75      0.79      0.77       389\n",
            "         comp.graphics       0.66      0.77      0.71       398\n",
            "\n",
            "              accuracy                           0.69      1106\n",
            "             macro avg       0.68      0.67      0.67      1106\n",
            "          weighted avg       0.69      0.69      0.68      1106\n",
            "\n"
          ]
        },
        {
          "output_type": "stream",
          "name": "stderr",
          "text": [
            "/usr/local/lib/python3.7/dist-packages/sklearn/svm/_base.py:1208: ConvergenceWarning: Liblinear failed to converge, increase the number of iterations.\n",
            "  ConvergenceWarning,\n"
          ]
        }
      ]
    }
  ]
}